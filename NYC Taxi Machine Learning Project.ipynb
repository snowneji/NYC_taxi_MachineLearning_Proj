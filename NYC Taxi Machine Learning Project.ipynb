{
 "cells": [
  {
   "cell_type": "markdown",
   "metadata": {},
   "source": [
    "By: Yifan Wang"
   ]
  },
  {
   "cell_type": "markdown",
   "metadata": {},
   "source": [
    "# Objective:\n",
    "\n",
    "After getting the data, the first thing I thought about is: given the taxi data, what business insight can I extract? After thinking for a while, I realized if I was the owner of a taxi company, I would love to know only one question: how can I **increase my profit** or what factors affect my profit by giving this data to my data scientist.\n",
    "\n",
    "Hence, the objective becomes clear at this point: it is to find some insights on the profit of taxi trips. However, there are no any feature that indicate the profit, what can we do?\n",
    "\n",
    "In this project:\n",
    "\n",
    " - We will clean the data, massage the data to allow for further analysis\n",
    " \n",
    " \n",
    " - It is always true that: **Profit = Revenue - Cost**. Therefore, we will come up with the estimate profit of each trip\n",
    " \n",
    " \n",
    " - Do data **exploration**, **visualization** along with **feature engineering**\n",
    " \n",
    " \n",
    " - We will build **machine learning** models to let the AI predict the profit for us\n"
   ]
  },
  {
   "cell_type": "markdown",
   "metadata": {},
   "source": [
    "# Data Cleaning"
   ]
  },
  {
   "cell_type": "markdown",
   "metadata": {},
   "source": [
    "### Loading Data:"
   ]
  },
  {
   "cell_type": "code",
   "execution_count": 1,
   "metadata": {
    "collapsed": true
   },
   "outputs": [],
   "source": [
    "import pandas as pd\n",
    "import numpy as np\n",
    "from sklearn.cluster import KMeans\n",
    "from sklearn.preprocessing import LabelEncoder\n",
    "from sklearn.metrics import mean_squared_error\n",
    "import xgboost as xgb\n",
    "from sklearn.ensemble import RandomForestRegressor"
   ]
  },
  {
   "cell_type": "code",
   "execution_count": 2,
   "metadata": {
    "collapsed": true,
    "scrolled": true
   },
   "outputs": [],
   "source": [
    "\n",
    "trip_dat = pd.read_csv('TRIP_DATA.csv')\n",
    "\n",
    "fare_dat = pd.read_csv('FARE_DATA.csv')"
   ]
  },
  {
   "cell_type": "markdown",
   "metadata": {},
   "source": [
    "### Some Minor Fixing and Sanity Check:"
   ]
  },
  {
   "cell_type": "code",
   "execution_count": 3,
   "metadata": {
    "collapsed": true
   },
   "outputs": [],
   "source": [
    "fare_dat.columns = [i.encode('ascii').strip() for i in fare_dat.columns]\n",
    "trip_dat.columns = [i.encode('ascii').strip() for i in trip_dat.columns]\n",
    "#Make sure index for each dataset is unique:\n",
    "assert len(set(trip_dat.index)) == trip_dat.shape[0]\n",
    "assert len(set(fare_dat.index)) == fare_dat.shape[0]\n",
    "# Make sure index for both datasets are identical:\n",
    "assert len([i for i in  trip_dat.index == fare_dat.index if i]) ==  trip_dat.shape[0]"
   ]
  },
  {
   "cell_type": "markdown",
   "metadata": {},
   "source": [
    "### After the Sanity Check, we are okay to join 2 datasets into one\n",
    "- in this case doesn't matter inner/left/right/outer join since both datasets have identical row number and index"
   ]
  },
  {
   "cell_type": "code",
   "execution_count": 4,
   "metadata": {},
   "outputs": [
    {
     "name": "stdout",
     "output_type": "stream",
     "text": [
      "Joining 2 datasets....\n"
     ]
    }
   ],
   "source": [
    "print('Joining 2 datasets....')\n",
    "duplicate_cols = [i for i in trip_dat.columns.values if i in fare_dat.columns.values]\n",
    "for col in duplicate_cols:\n",
    "    del trip_dat[col]\n",
    "data = fare_dat.join(trip_dat,how='inner')"
   ]
  },
  {
   "cell_type": "markdown",
   "metadata": {},
   "source": [
    "### Given the large dataset, for efficiency we only use 20% of the data to explore:"
   ]
  },
  {
   "cell_type": "code",
   "execution_count": 5,
   "metadata": {
    "collapsed": true
   },
   "outputs": [],
   "source": [
    "np.random.seed(12)\n",
    "data = data.sample(frac=0.2, replace=False)\n"
   ]
  },
  {
   "cell_type": "markdown",
   "metadata": {},
   "source": [
    "### More Several Sanity Checks & Imputation for nans:\n",
    "\n",
    "- Among all columns there are 2 dtypes: object and float\n",
    "\n",
    "- For object columns we use isinstance(value,float) to detect nans: looks like in \"store_and_fwd_flag\" column, we have **47%** of the data are nans. Given the large amount of Nan, I decided to **encode nans** in this column as a category since nans might contain information\n",
    "\n",
    "- For numeric columns we can simply use np.isnan(value) to check nans: looks like there are less than **100**  Nans in dropoff_longitude and dropoff_latitude. In this case, since very small amount of data doesn't contain location data, we can simply **remove them**\n",
    "\n",
    "- Then remove 'hack_license' column because it contains too many unique values\n",
    "\n",
    "- Finally we removed negative values in features such as \"trip_time_in_secs\""
   ]
  },
  {
   "cell_type": "code",
   "execution_count": 6,
   "metadata": {},
   "outputs": [
    {
     "name": "stdout",
     "output_type": "stream",
     "text": [
      "Detecting nans in object cols...\n",
      "medallion\n",
      "[]\n",
      "hack_license\n",
      "[]\n",
      "vendor_id\n",
      "[]\n",
      "pickup_datetime\n",
      "[]\n",
      "payment_type\n",
      "[]\n",
      "store_and_fwd_flag\n",
      "[nan]\n",
      "dropoff_datetime\n",
      "[]\n"
     ]
    }
   ],
   "source": [
    "print('Detecting nans in object cols...')\n",
    "for c, dtype in zip(data.columns, data.dtypes):\n",
    "    if dtype == object:\n",
    "        print(c)\n",
    "        unique_vals = list(set(data[c]))\n",
    "        nan_vals = [val for val in unique_vals if isinstance(val,float)]\n",
    "        nan_vals2 = [val for val in unique_vals if isinstance(val,float)]\n",
    "        print(nan_vals)"
   ]
  },
  {
   "cell_type": "code",
   "execution_count": 7,
   "metadata": {},
   "outputs": [
    {
     "name": "stdout",
     "output_type": "stream",
     "text": [
      "47.54 percent of data in store_and_fwd_flag column is nan\n",
      "encoding...\n"
     ]
    },
    {
     "name": "stderr",
     "output_type": "stream",
     "text": [
      "/usr/local/lib/python2.7/site-packages/ipykernel_launcher.py:7: DeprecationWarning: \n",
      ".ix is deprecated. Please use\n",
      ".loc for label based indexing or\n",
      ".iloc for positional indexing\n",
      "\n",
      "See the documentation here:\n",
      "http://pandas.pydata.org/pandas-docs/stable/indexing.html#deprecate_ix\n",
      "  import sys\n"
     ]
    }
   ],
   "source": [
    "# percentage of nans in  'store_and_fwd_flag' column:\n",
    "prop = sum([isinstance(i,float) for i in data['store_and_fwd_flag']])/float(len(data['store_and_fwd_flag']))\n",
    "print(\"%.2f percent of data in store_and_fwd_flag column is nan\"%round(prop*100,2))    \n",
    "    \n",
    "# encode nan in \"store_and_fwd_flag\" column:\n",
    "print('encoding...')\n",
    "data.ix[[isinstance(i,float) for i in data['store_and_fwd_flag']],'store_and_fwd_flag'] = \"-1\""
   ]
  },
  {
   "cell_type": "code",
   "execution_count": 8,
   "metadata": {},
   "outputs": [
    {
     "name": "stdout",
     "output_type": "stream",
     "text": [
      "detecting nan values in numeric columns\n",
      "Nan number for column fare_amount is 0\n",
      "Nan number for column surcharge is 0\n",
      "Nan number for column mta_tax is 0\n",
      "Nan number for column tip_amount is 0\n",
      "Nan number for column tolls_amount is 0\n",
      "Nan number for column total_amount is 0\n",
      "Nan number for column trip_distance is 0\n",
      "Nan number for column pickup_longitude is 0\n",
      "Nan number for column pickup_latitude is 0\n",
      "Nan number for column dropoff_longitude is 30\n",
      "Nan number for column dropoff_latitude is 30\n",
      "Removing  Nan rows...\n",
      "Dropping hack_license col\n"
     ]
    }
   ],
   "source": [
    "print('detecting nan values in numeric columns')\n",
    "for c, dtype in zip(data.columns, data.dtypes):\n",
    "    if dtype == np.float64:\n",
    "        print(\"Nan number for column %s is %d\") %(c,np.sum(np.isnan(data[c]))   )\n",
    "# Given the huge dataset, it is okay to drop those 209 record:\n",
    "print('Removing  Nan rows...')\n",
    "data.dropna(how='any',inplace=True)\n",
    "# Drop license id:\n",
    "print('Dropping hack_license col')\n",
    "del data['hack_license']"
   ]
  },
  {
   "cell_type": "markdown",
   "metadata": {},
   "source": [
    "### Time Feautures:\n",
    "\n",
    "- Based on intuition, time features can be very important in taxi related data;\n",
    "- Therefore we can confidently extract features such as year,month,day,weekday,hour,minutes of both pickup and drop off time;\n",
    "- Trip length might also be an interesting feature;\n",
    "- Since minutes feautures are too specific, I will round them up and combine with hour features"
   ]
  },
  {
   "cell_type": "code",
   "execution_count": 9,
   "metadata": {},
   "outputs": [
    {
     "name": "stdout",
     "output_type": "stream",
     "text": [
      "Cleanup Time Features...\n",
      "Building new time features...\n",
      "pickup features...\n",
      ".\n",
      ".\n",
      ".\n",
      ".\n",
      ".\n",
      ".\n",
      "dropoff features...\n",
      ".\n",
      ".\n",
      ".\n",
      ".\n",
      ".\n",
      ".\n",
      ".\n",
      ".\n",
      ".\n",
      "Combining hour and minutes...\n"
     ]
    }
   ],
   "source": [
    "print('Cleanup Time Features...')\n",
    "data['pickup_datetime'] = pd.to_datetime(data['pickup_datetime'])\n",
    "data['dropoff_datetime'] = pd.to_datetime(data['dropoff_datetime'])\n",
    "# Time Features: pickup features\n",
    "\n",
    "print('Building new time features...')\n",
    "print('pickup features...')\n",
    "print('.')\n",
    "data['pickup_year'] = data['pickup_datetime'].apply(lambda x: x.year)\n",
    "print('.')\n",
    "data['pickup_month'] = data['pickup_datetime'].apply(lambda x: x.month)\n",
    "print('.')\n",
    "data['pickup_day'] = data['pickup_datetime'].apply(lambda x: x.day)\n",
    "print('.')\n",
    "data['pickup_weekday'] = data['pickup_datetime'].apply(lambda x: x.weekday())\n",
    "print('.')\n",
    "data['pickup_hour'] = data['pickup_datetime'].apply(lambda x: x.hour)\n",
    "print('.')\n",
    "data['pickup_minute'] = data['pickup_datetime'].apply(lambda x: x.minute)\n",
    "\n",
    "\n",
    "# Time Features: dropoff features\n",
    "print('dropoff features...')\n",
    "print('.')\n",
    "data['dropoff_year'] = data['dropoff_datetime'].apply(lambda x: x.year)\n",
    "print('.')\n",
    "data['dropoff_month'] = data['dropoff_datetime'].apply(lambda x: x.month)\n",
    "print('.')\n",
    "data['dropoff_day'] = data['dropoff_datetime'].apply(lambda x: x.day)\n",
    "print('.')\n",
    "data['dropoff_weekday'] = data['dropoff_datetime'].apply(lambda x: x.weekday())\n",
    "print('.')\n",
    "data['dropoff_hour'] = data['dropoff_datetime'].apply(lambda x: x.hour)\n",
    "print('.')\n",
    "data['dropoff_minute'] = data['dropoff_datetime'].apply(lambda x: x.minute)\n",
    "\n",
    "\n",
    "\n",
    "#Trip Length Feature:\n",
    "print('.')\n",
    "trip_len = data['dropoff_datetime'] - data['pickup_datetime']\n",
    "print('.')\n",
    "data['trip_length_in_minutes'] = trip_len.astype('timedelta64[m]')\n",
    "print('.')\n",
    "\n",
    "\n",
    "#Now it's okay to drop original time cols:\n",
    "del data['pickup_datetime']\n",
    "del data['dropoff_datetime']\n",
    "\n",
    "\n",
    "# Combining hour and minutes:\n",
    "# For example: hour-2 minutes-20  becomes  2+(20/60) = 2.33\n",
    "print('Combining hour and minutes...')\n",
    "data['pickup_hour'] = (data['pickup_hour'] + (data['pickup_minute']/60.0)).round(1)\n",
    "data['dropoff_hour'] = (data['dropoff_hour'] + (data['dropoff_minute']/60.0)).round(1)\n",
    "del data['dropoff_minute']\n",
    "del data['pickup_minute']"
   ]
  },
  {
   "cell_type": "markdown",
   "metadata": {},
   "source": [
    "### Make sure trip in minutes and trip in seconds features are positive:"
   ]
  },
  {
   "cell_type": "code",
   "execution_count": 10,
   "metadata": {
    "collapsed": true
   },
   "outputs": [],
   "source": [
    "data = data[data['trip_time_in_secs']>=0]\n",
    "data = data[data['trip_length_in_minutes']>=0]"
   ]
  },
  {
   "cell_type": "markdown",
   "metadata": {},
   "source": [
    "# Target Variable/Label Creation:\n",
    "\n",
    "\n",
    " - Although I've never taken a taxi in NYC, it is not hard to find \"Passenger must pay all bridge and tunnel tolls. Your receipt will show your total fare including tolls.\" from http://www.nyc.gov/html/tlc/downloads/pdf/taxi_information.pdf\n",
    " \n",
    " \n",
    " - The approximate gas price of NYC is about $3.8/gallon (http://www.newyorkgasprices.com/retail_price_chart.aspx)\n",
    " \n",
    " \n",
    " - According to some research and readings, I decided to set the MPG for NYC as 20MPG (just approximation). Therefore the gas cost for each trip is:  **  $3.8*(trip_distance/20)  **\n",
    " \n",
    " \n",
    " - Therefore my strategy to calculation the profit for each trip is:\n",
    " \n",
    " ** profit = total_amount - tolls_amount - mta_tax - gas cost ** (again this is just a approximation, I didn't consider the tips and other cost)\n"
   ]
  },
  {
   "cell_type": "markdown",
   "metadata": {},
   "source": [
    "### Before creating \"profit\" feature, we need to make sure all the data is correct:\n",
    "\n",
    "- Since the total charge, tolls_amount are the charge amount, it doesn't make sense to have this variable to below 0"
   ]
  },
  {
   "cell_type": "code",
   "execution_count": 11,
   "metadata": {
    "scrolled": true
   },
   "outputs": [
    {
     "name": "stdout",
     "output_type": "stream",
     "text": [
      "count    2611770\n",
      "mean          14\n",
      "std           11\n",
      "min          -55\n",
      "25%            8\n",
      "50%           11\n",
      "75%           16\n",
      "max          500\n",
      "Name: total_amount, dtype: int64\n"
     ]
    }
   ],
   "source": [
    "# Total amount: \n",
    "print(data['total_amount'].describe().astype(int))\n",
    "\n",
    "# keep record:\n",
    "\n",
    "\n",
    "# keep records that are above 0:\n",
    "data = data[data['total_amount']>=0]"
   ]
  },
  {
   "cell_type": "code",
   "execution_count": 12,
   "metadata": {},
   "outputs": [
    {
     "name": "stdout",
     "output_type": "stream",
     "text": [
      "count    2611739\n",
      "mean           0\n",
      "std            1\n",
      "min            0\n",
      "25%            0\n",
      "50%            0\n",
      "75%            0\n",
      "max           58\n",
      "Name: tolls_amount, dtype: int64\n"
     ]
    }
   ],
   "source": [
    "# Tolls amount:\n",
    "print(data['tolls_amount'].describe().astype(int))\n",
    "\n",
    "# keep records that are above 0:\n",
    "data = data[data['tolls_amount']>=0]"
   ]
  },
  {
   "cell_type": "code",
   "execution_count": 13,
   "metadata": {},
   "outputs": [
    {
     "name": "stdout",
     "output_type": "stream",
     "text": [
      "count    2611739\n",
      "mean           0\n",
      "std            0\n",
      "min            0\n",
      "25%            0\n",
      "50%            0\n",
      "75%            0\n",
      "max            0\n",
      "Name: mta_tax, dtype: int64\n"
     ]
    }
   ],
   "source": [
    "# mta_tax amount:\n",
    "print(data['mta_tax'].describe().astype(int))\n",
    "\n",
    "# make sure tax is not larger than total amount:\n",
    "data = data[data['mta_tax']<=data['total_amount']]"
   ]
  },
  {
   "cell_type": "code",
   "execution_count": 14,
   "metadata": {},
   "outputs": [
    {
     "name": "stdout",
     "output_type": "stream",
     "text": [
      "count    2611738\n",
      "mean           2\n",
      "std            3\n",
      "min            0\n",
      "25%            1\n",
      "50%            1\n",
      "75%            3\n",
      "max         3008\n",
      "Name: trip_distance, dtype: int64\n"
     ]
    }
   ],
   "source": [
    "# trip distance:\n",
    "\n",
    "# All good here\n",
    "print(data['trip_distance'].describe().astype(int))"
   ]
  },
  {
   "cell_type": "code",
   "execution_count": 15,
   "metadata": {
    "collapsed": true
   },
   "outputs": [],
   "source": [
    "data['profit'] = data['total_amount'] - data['tolls_amount'] - data['mta_tax'] - 3.8*(data['trip_distance']/20)"
   ]
  },
  {
   "cell_type": "code",
   "execution_count": 16,
   "metadata": {},
   "outputs": [
    {
     "name": "stdout",
     "output_type": "stream",
     "text": [
      "count    2611738\n",
      "mean          13\n",
      "std           10\n",
      "min         -547\n",
      "25%            7\n",
      "50%           10\n",
      "75%           15\n",
      "max          499\n",
      "Name: profit, dtype: int64\n"
     ]
    }
   ],
   "source": [
    "# New variable: profit:\n",
    "print(data['profit'].describe().astype(int))\n",
    "\n",
    "\n",
    "# Keep only within +/- 2 standard deviations:\n",
    "\n",
    "mn = data['profit'].mean()\n",
    "sd = data['profit'].std()\n",
    "\n",
    "data = data[data['profit']<= (mn+2*sd) ]\n",
    "data = data[data['profit']>= (mn-2*sd) ]"
   ]
  },
  {
   "cell_type": "markdown",
   "metadata": {},
   "source": [
    "## Attention:\n",
    "\n",
    "- At this point, I'm more interested to use other features such as time and location to predict the profit, therefore I decided to remove all features that are dollar amount related\n",
    "\n",
    "- It is also a good practice to do so because this will prevent data leakage\n"
   ]
  },
  {
   "cell_type": "code",
   "execution_count": 17,
   "metadata": {},
   "outputs": [
    {
     "name": "stdout",
     "output_type": "stream",
     "text": [
      "del:fare_amount\n",
      "del:tip_amount\n",
      "del:tolls_amount\n",
      "del:total_amount\n"
     ]
    }
   ],
   "source": [
    "\n",
    "del data['mta_tax']\n",
    "\n",
    "\n",
    "for i in [col for col in data.columns if 'amount' in col]:\n",
    "    print('del:'+i)\n",
    "    del data[i]"
   ]
  },
  {
   "cell_type": "markdown",
   "metadata": {},
   "source": [
    "# Data Visualization & Exploration:\n",
    "\n",
    "- In this section, I will explore the data, visualize some key features and will perform feature engineering along the way\n"
   ]
  },
  {
   "cell_type": "code",
   "execution_count": 18,
   "metadata": {
    "collapsed": true
   },
   "outputs": [],
   "source": [
    "# plot setup:\n",
    "\n",
    "import seaborn as sns\n",
    "import matplotlib.pyplot as plt\n",
    "%matplotlib inline"
   ]
  },
  {
   "cell_type": "markdown",
   "metadata": {},
   "source": [
    "### Correlation Plot:\n",
    "\n",
    "Although eventually we are going to build machine learning models using non-linear models, it is still quite useful to explore the linear relationship between features using correlation plot. Look how fare amount, tip amount, rate code, distance and trip length are correlated with profit\n"
   ]
  },
  {
   "cell_type": "code",
   "execution_count": 19,
   "metadata": {},
   "outputs": [
    {
     "name": "stderr",
     "output_type": "stream",
     "text": [
      "/usr/local/lib/python2.7/site-packages/seaborn/palettes.py:727: DeprecationWarning: object of type <type 'float'> cannot be safely interpreted as an integer.\n",
      "  pal = _ColorPalette(pal(np.linspace(0, 1, n_colors)))\n",
      "/usr/local/lib/python2.7/site-packages/seaborn/palettes.py:727: DeprecationWarning: object of type <type 'float'> cannot be safely interpreted as an integer.\n",
      "  pal = _ColorPalette(pal(np.linspace(0, 1, n_colors)))\n"
     ]
    },
    {
     "data": {
      "text/plain": [
       "<matplotlib.axes._subplots.AxesSubplot at 0x11dc3ad90>"
      ]
     },
     "execution_count": 19,
     "metadata": {},
     "output_type": "execute_result"
    },
    {
     "data": {
      "image/png": "[encoded data removed]",
      "text/plain": [
       "<matplotlib.figure.Figure at 0x11dc3a610>"
      ]
     },
     "metadata": {},
     "output_type": "display_data"
    }
   ],
   "source": [
    "sns.set(style=\"white\")\n",
    "\n",
    "\n",
    "# correlation matrix\n",
    "corr = data.corr()\n",
    "# mask for the upper triangle\n",
    "mask = np.zeros_like(corr, dtype=np.bool)\n",
    "mask[np.triu_indices_from(mask)] = True\n",
    "\n",
    "# Set up the matplotlib figure\n",
    "f, ax = plt.subplots(figsize=(12, 9))\n",
    "\n",
    "# Generate a custom diverging colormap\n",
    "cmap = sns.diverging_palette(500, 10, as_cmap=True)\n",
    "\n",
    "# Draw the heatmap with the mask and correct aspect ratio\n",
    "sns.heatmap(corr, mask=mask, cmap=cmap, vmax=.3, center=0,\n",
    "            square=True, linewidths=.5, cbar_kws={\"shrink\": .5})"
   ]
  },
  {
   "cell_type": "markdown",
   "metadata": {},
   "source": [
    "### Distribution of Sampled Profit\n"
   ]
  },
  {
   "cell_type": "code",
   "execution_count": 20,
   "metadata": {
    "scrolled": true
   },
   "outputs": [
    {
     "data": {
      "text/plain": [
       "<matplotlib.axes._subplots.AxesSubplot at 0x11dc3eb90>"
      ]
     },
     "execution_count": 20,
     "metadata": {},
     "output_type": "execute_result"
    },
    {
     "data": {
      "image/png": "[encoded data removed]",
      "text/plain": [
       "<matplotlib.figure.Figure at 0x11dc3e490>"
      ]
     },
     "metadata": {},
     "output_type": "display_data"
    }
   ],
   "source": [
    "data.boxplot('profit')"
   ]
  },
  {
   "cell_type": "markdown",
   "metadata": {},
   "source": [
    "### Based on the pickup and dropoff location, we use clustering technique to  create some geo features. "
   ]
  },
  {
   "cell_type": "code",
   "execution_count": 21,
   "metadata": {
    "collapsed": true,
    "scrolled": true
   },
   "outputs": [],
   "source": [
    "kmeans1 = KMeans(n_clusters=15, random_state=0).fit(data[['pickup_latitude','pickup_longitude']])\n"
   ]
  },
  {
   "cell_type": "code",
   "execution_count": 22,
   "metadata": {
    "collapsed": true
   },
   "outputs": [],
   "source": [
    "data['geo_pickup_cluster'] = kmeans1.labels_"
   ]
  },
  {
   "cell_type": "code",
   "execution_count": 23,
   "metadata": {
    "collapsed": true
   },
   "outputs": [],
   "source": [
    "kmeans2 = KMeans(n_clusters=15, random_state=0).fit(data[['dropoff_latitude','dropoff_longitude']])\n",
    "\n",
    "data['geo_dropoff_cluster'] = kmeans2.labels_"
   ]
  },
  {
   "cell_type": "markdown",
   "metadata": {},
   "source": [
    "### Geo Trip Feature:\n",
    "\n",
    "- now we can create a new feature, I call it 'geo_trip_feature', each will be a pair value that indicate from pickup location to drop off location, so that we can explore which pair of locations are the most beneficial to the taxi.\n",
    "\n",
    "\n",
    "- For example if the passanger was picked up at cluster 1 and dropped off at cluster 2, our new feature will simply become: \"1->2\". Don't worry about the value, We can label encode them in the modeling phase."
   ]
  },
  {
   "cell_type": "code",
   "execution_count": 24,
   "metadata": {
    "collapsed": true
   },
   "outputs": [],
   "source": [
    "data['geo_trip'] = data['geo_pickup_cluster'].astype(str)+'->'+data['geo_dropoff_cluster'].astype('str')"
   ]
  },
  {
   "cell_type": "markdown",
   "metadata": {},
   "source": [
    "### Where Do People Travel the Most:\n",
    "\n",
    "\n",
    " 11 -> 14\n",
    " \n",
    " 0 -> 0\n",
    " \n",
    " 0 -> 14\n",
    " \n",
    " 11 -> 0"
   ]
  },
  {
   "cell_type": "code",
   "execution_count": 25,
   "metadata": {},
   "outputs": [
    {
     "data": {
      "text/html": [
       "<div>\n",
       "<style>\n",
       "    .dataframe thead tr:only-child th {\n",
       "        text-align: right;\n",
       "    }\n",
       "\n",
       "    .dataframe thead th {\n",
       "        text-align: left;\n",
       "    }\n",
       "\n",
       "    .dataframe tbody tr th {\n",
       "        vertical-align: top;\n",
       "    }\n",
       "</style>\n",
       "<table border=\"1\" class=\"dataframe\">\n",
       "  <thead>\n",
       "    <tr style=\"text-align: right;\">\n",
       "      <th></th>\n",
       "      <th>0</th>\n",
       "    </tr>\n",
       "    <tr>\n",
       "      <th>geo_trip</th>\n",
       "      <th></th>\n",
       "    </tr>\n",
       "  </thead>\n",
       "  <tbody>\n",
       "    <tr>\n",
       "      <th>11-&gt;14</th>\n",
       "      <td>943679</td>\n",
       "    </tr>\n",
       "    <tr>\n",
       "      <th>0-&gt;0</th>\n",
       "      <td>746285</td>\n",
       "    </tr>\n",
       "    <tr>\n",
       "      <th>0-&gt;14</th>\n",
       "      <td>382050</td>\n",
       "    </tr>\n",
       "    <tr>\n",
       "      <th>11-&gt;0</th>\n",
       "      <td>361384</td>\n",
       "    </tr>\n",
       "    <tr>\n",
       "      <th>1-&gt;1</th>\n",
       "      <td>43252</td>\n",
       "    </tr>\n",
       "    <tr>\n",
       "      <th>2-&gt;2</th>\n",
       "      <td>7804</td>\n",
       "    </tr>\n",
       "    <tr>\n",
       "      <th>11-&gt;1</th>\n",
       "      <td>1118</td>\n",
       "    </tr>\n",
       "    <tr>\n",
       "      <th>0-&gt;1</th>\n",
       "      <td>1026</td>\n",
       "    </tr>\n",
       "    <tr>\n",
       "      <th>1-&gt;14</th>\n",
       "      <td>638</td>\n",
       "    </tr>\n",
       "    <tr>\n",
       "      <th>1-&gt;0</th>\n",
       "      <td>514</td>\n",
       "    </tr>\n",
       "  </tbody>\n",
       "</table>\n",
       "</div>"
      ],
      "text/plain": [
       "               0\n",
       "geo_trip        \n",
       "11->14    943679\n",
       "0->0      746285\n",
       "0->14     382050\n",
       "11->0     361384\n",
       "1->1       43252\n",
       "2->2        7804\n",
       "11->1       1118\n",
       "0->1        1026\n",
       "1->14        638\n",
       "1->0         514"
      ]
     },
     "execution_count": 25,
     "metadata": {},
     "output_type": "execute_result"
    }
   ],
   "source": [
    "tr_freq = data[['geo_trip']].groupby('geo_trip').size().sort_values(ascending=False)[:10]\n",
    "\n",
    "pd.DataFrame(tr_freq)"
   ]
  },
  {
   "cell_type": "markdown",
   "metadata": {},
   "source": [
    "### Which route is the most beneficial?\n",
    "\n",
    "\n",
    "4 -> 6\n",
    "\n",
    "11 -> 8\n",
    "\n",
    "5 -> 0"
   ]
  },
  {
   "cell_type": "code",
   "execution_count": 26,
   "metadata": {},
   "outputs": [
    {
     "data": {
      "text/html": [
       "<div>\n",
       "<style>\n",
       "    .dataframe thead tr:only-child th {\n",
       "        text-align: right;\n",
       "    }\n",
       "\n",
       "    .dataframe thead th {\n",
       "        text-align: left;\n",
       "    }\n",
       "\n",
       "    .dataframe tbody tr th {\n",
       "        vertical-align: top;\n",
       "    }\n",
       "</style>\n",
       "<table border=\"1\" class=\"dataframe\">\n",
       "  <thead>\n",
       "    <tr style=\"text-align: right;\">\n",
       "      <th></th>\n",
       "      <th>profit</th>\n",
       "    </tr>\n",
       "    <tr>\n",
       "      <th>geo_trip</th>\n",
       "      <th></th>\n",
       "    </tr>\n",
       "  </thead>\n",
       "  <tbody>\n",
       "    <tr>\n",
       "      <th>4-&gt;6</th>\n",
       "      <td>24.989500</td>\n",
       "    </tr>\n",
       "    <tr>\n",
       "      <th>11-&gt;8</th>\n",
       "      <td>22.853500</td>\n",
       "    </tr>\n",
       "    <tr>\n",
       "      <th>5-&gt;0</th>\n",
       "      <td>18.274500</td>\n",
       "    </tr>\n",
       "    <tr>\n",
       "      <th>9-&gt;6</th>\n",
       "      <td>18.059450</td>\n",
       "    </tr>\n",
       "    <tr>\n",
       "      <th>0-&gt;11</th>\n",
       "      <td>15.091125</td>\n",
       "    </tr>\n",
       "    <tr>\n",
       "      <th>11-&gt;0</th>\n",
       "      <td>14.896024</td>\n",
       "    </tr>\n",
       "    <tr>\n",
       "      <th>0-&gt;6</th>\n",
       "      <td>14.543887</td>\n",
       "    </tr>\n",
       "    <tr>\n",
       "      <th>0-&gt;14</th>\n",
       "      <td>14.355665</td>\n",
       "    </tr>\n",
       "    <tr>\n",
       "      <th>8-&gt;0</th>\n",
       "      <td>14.133513</td>\n",
       "    </tr>\n",
       "    <tr>\n",
       "      <th>0-&gt;5</th>\n",
       "      <td>13.960400</td>\n",
       "    </tr>\n",
       "  </tbody>\n",
       "</table>\n",
       "</div>"
      ],
      "text/plain": [
       "             profit\n",
       "geo_trip           \n",
       "4->6      24.989500\n",
       "11->8     22.853500\n",
       "5->0      18.274500\n",
       "9->6      18.059450\n",
       "0->11     15.091125\n",
       "11->0     14.896024\n",
       "0->6      14.543887\n",
       "0->14     14.355665\n",
       "8->0      14.133513\n",
       "0->5      13.960400"
      ]
     },
     "execution_count": 26,
     "metadata": {},
     "output_type": "execute_result"
    }
   ],
   "source": [
    "trip_pr_agg = data[['geo_trip','profit']].groupby('geo_trip').mean()\n",
    "trip_pr_agg.sort_values(by='profit',ascending=False)[:10]\n"
   ]
  },
  {
   "cell_type": "code",
   "execution_count": 27,
   "metadata": {},
   "outputs": [
    {
     "data": {
      "text/plain": [
       "<matplotlib.axes._subplots.AxesSubplot at 0x1b33a5790>"
      ]
     },
     "execution_count": 27,
     "metadata": {},
     "output_type": "execute_result"
    },
    {
     "data": {
      "image/png": "[encoded data removed]",
      "text/plain": [
       "<matplotlib.figure.Figure at 0x1abe25790>"
      ]
     },
     "metadata": {},
     "output_type": "display_data"
    }
   ],
   "source": [
    "trip_pr_agg.sort_values(by='profit',ascending=False)[:10].plot(kind='barh')"
   ]
  },
  {
   "cell_type": "markdown",
   "metadata": {},
   "source": [
    "### When is the Peak time?\n",
    "\n",
    "- Looks like for both pick up and drop off hour, around 20:00pm is the peak time while 5:00am is the off-peak time"
   ]
  },
  {
   "cell_type": "code",
   "execution_count": 28,
   "metadata": {},
   "outputs": [
    {
     "data": {
      "text/plain": [
       "<matplotlib.axes._subplots.AxesSubplot at 0x159e67850>"
      ]
     },
     "execution_count": 28,
     "metadata": {},
     "output_type": "execute_result"
    },
    {
     "data": {
      "image/png": "[encoded data removed]",
      "text/plain": [
       "<matplotlib.figure.Figure at 0x16f903b50>"
      ]
     },
     "metadata": {},
     "output_type": "display_data"
    }
   ],
   "source": [
    "pd.DataFrame(data[['pickup_hour']].round()).groupby('pickup_hour').size().plot()\n",
    "\n",
    "\n"
   ]
  },
  {
   "cell_type": "markdown",
   "metadata": {},
   "source": [
    "### When is the Peak Profit Time:\n",
    "\n",
    "- It is interesting that when it is at the off-peak time 5:00am, average profit is at the peak"
   ]
  },
  {
   "cell_type": "code",
   "execution_count": 29,
   "metadata": {},
   "outputs": [
    {
     "data": {
      "text/plain": [
       "<matplotlib.axes._subplots.AxesSubplot at 0x1a2250910>"
      ]
     },
     "execution_count": 29,
     "metadata": {},
     "output_type": "execute_result"
    },
    {
     "data": {
      "image/png": "[encoded data removed]",
      "text/plain": [
       "<matplotlib.figure.Figure at 0x163b2aad0>"
      ]
     },
     "metadata": {},
     "output_type": "display_data"
    }
   ],
   "source": [
    "data[['pickup_hour','profit']].groupby('pickup_hour').mean().plot(color='red')\n",
    "\n",
    "\n"
   ]
  },
  {
   "cell_type": "markdown",
   "metadata": {},
   "source": [
    "### How about Peak Day of the Week?\n",
    "\n",
    "- looks like on Monday and Sunday people use less taxi"
   ]
  },
  {
   "cell_type": "code",
   "execution_count": 30,
   "metadata": {
    "scrolled": true
   },
   "outputs": [
    {
     "data": {
      "text/plain": [
       "<matplotlib.axes._subplots.AxesSubplot at 0x124e1ed90>"
      ]
     },
     "execution_count": 30,
     "metadata": {},
     "output_type": "execute_result"
    },
    {
     "data": {
      "image/png": "[encoded data removed]",
      "text/plain": [
       "<matplotlib.figure.Figure at 0x1a112c2d0>"
      ]
     },
     "metadata": {},
     "output_type": "display_data"
    }
   ],
   "source": [
    "pd.DataFrame(data[['pickup_weekday']].round()).groupby('pickup_weekday').size().plot()\n",
    "\n"
   ]
  },
  {
   "cell_type": "markdown",
   "metadata": {},
   "source": [
    "### The most Profitable Weekday?\n",
    "\n",
    "- Surprisingly on Saturday it is the least beneficial, while on Thursday and Friday it is the most beneficial"
   ]
  },
  {
   "cell_type": "code",
   "execution_count": 31,
   "metadata": {
    "scrolled": true
   },
   "outputs": [
    {
     "data": {
      "text/plain": [
       "<matplotlib.axes._subplots.AxesSubplot at 0x124e26f50>"
      ]
     },
     "execution_count": 31,
     "metadata": {},
     "output_type": "execute_result"
    },
    {
     "data": {
      "image/png": "[encoded data removed]",
      "text/plain": [
       "<matplotlib.figure.Figure at 0x19816f350>"
      ]
     },
     "metadata": {},
     "output_type": "display_data"
    }
   ],
   "source": [
    "data[['pickup_weekday','profit']].groupby('pickup_weekday').mean().plot()\n"
   ]
  },
  {
   "cell_type": "markdown",
   "metadata": {},
   "source": [
    "### Which Weekday-Time Combination is the most beneficial?\n",
    "\n",
    "- To answer this question we need to again concatenate \"weekday\" and \"hour\" feature, and then groupby each weekday-time combination and find the highest average profit\n",
    "\n",
    "\n",
    "- The most beneficial time is 5am on Monday\n",
    "\n",
    "\n",
    "- The second beneficial time is 5am on Wednesday\n",
    "\n",
    "\n",
    "- The third beneficial time is 5am on Friday\n",
    "\n",
    "\n",
    "- Basically anyday's early morning is a good time to make money"
   ]
  },
  {
   "cell_type": "code",
   "execution_count": 32,
   "metadata": {
    "collapsed": true
   },
   "outputs": [],
   "source": [
    "data['weekday_hour'] =\\\n",
    "data['pickup_weekday'].astype(str) +\\\n",
    "'-'+\\\n",
    "data['pickup_hour'].round().astype(int).astype(str)"
   ]
  },
  {
   "cell_type": "code",
   "execution_count": 35,
   "metadata": {},
   "outputs": [
    {
     "data": {
      "text/html": [
       "<div>\n",
       "<style>\n",
       "    .dataframe thead tr:only-child th {\n",
       "        text-align: right;\n",
       "    }\n",
       "\n",
       "    .dataframe thead th {\n",
       "        text-align: left;\n",
       "    }\n",
       "\n",
       "    .dataframe tbody tr th {\n",
       "        vertical-align: top;\n",
       "    }\n",
       "</style>\n",
       "<table border=\"1\" class=\"dataframe\">\n",
       "  <thead>\n",
       "    <tr style=\"text-align: right;\">\n",
       "      <th></th>\n",
       "      <th>profit</th>\n",
       "    </tr>\n",
       "    <tr>\n",
       "      <th>weekday_hour</th>\n",
       "      <th></th>\n",
       "    </tr>\n",
       "  </thead>\n",
       "  <tbody>\n",
       "    <tr>\n",
       "      <th>0-5</th>\n",
       "      <td>14.549068</td>\n",
       "    </tr>\n",
       "    <tr>\n",
       "      <th>4-5</th>\n",
       "      <td>13.764461</td>\n",
       "    </tr>\n",
       "    <tr>\n",
       "      <th>3-5</th>\n",
       "      <td>13.348043</td>\n",
       "    </tr>\n",
       "    <tr>\n",
       "      <th>0-4</th>\n",
       "      <td>13.309028</td>\n",
       "    </tr>\n",
       "    <tr>\n",
       "      <th>2-5</th>\n",
       "      <td>13.240159</td>\n",
       "    </tr>\n",
       "    <tr>\n",
       "      <th>2-4</th>\n",
       "      <td>13.215606</td>\n",
       "    </tr>\n",
       "    <tr>\n",
       "      <th>6-5</th>\n",
       "      <td>13.145547</td>\n",
       "    </tr>\n",
       "    <tr>\n",
       "      <th>1-4</th>\n",
       "      <td>13.050125</td>\n",
       "    </tr>\n",
       "    <tr>\n",
       "      <th>3-4</th>\n",
       "      <td>13.043122</td>\n",
       "    </tr>\n",
       "    <tr>\n",
       "      <th>5-5</th>\n",
       "      <td>13.043099</td>\n",
       "    </tr>\n",
       "  </tbody>\n",
       "</table>\n",
       "</div>"
      ],
      "text/plain": [
       "                 profit\n",
       "weekday_hour           \n",
       "0-5           14.549068\n",
       "4-5           13.764461\n",
       "3-5           13.348043\n",
       "0-4           13.309028\n",
       "2-5           13.240159\n",
       "2-4           13.215606\n",
       "6-5           13.145547\n",
       "1-4           13.050125\n",
       "3-4           13.043122\n",
       "5-5           13.043099"
      ]
     },
     "execution_count": 35,
     "metadata": {},
     "output_type": "execute_result"
    }
   ],
   "source": [
    "data[[\n",
    "    'weekday_hour',\n",
    "    'profit']].groupby('weekday_hour').mean().sort_values(by='profit',ascending=False)[:10]"
   ]
  },
  {
   "cell_type": "code",
   "execution_count": 36,
   "metadata": {
    "scrolled": true
   },
   "outputs": [
    {
     "data": {
      "text/plain": [
       "<matplotlib.axes._subplots.AxesSubplot at 0x190bac350>"
      ]
     },
     "execution_count": 36,
     "metadata": {},
     "output_type": "execute_result"
    },
    {
     "data": {
      "image/png": "[encoded data removed]",
      "text/plain": [
       "<matplotlib.figure.Figure at 0x190bc31d0>"
      ]
     },
     "metadata": {},
     "output_type": "display_data"
    }
   ],
   "source": [
    "data[[\n",
    "    'weekday_hour',\n",
    "    'profit']].groupby('weekday_hour').mean().sort_values(\n",
    "    by='profit',\n",
    "    ascending=False)[:10].plot(kind='barh')"
   ]
  },
  {
   "cell_type": "markdown",
   "metadata": {},
   "source": [
    "###  Top 10 Most Profitable Taxis\n",
    "\n",
    "- the IDs were hacked so this doesn't have too much value"
   ]
  },
  {
   "cell_type": "code",
   "execution_count": 37,
   "metadata": {},
   "outputs": [
    {
     "data": {
      "text/html": [
       "<div>\n",
       "<style>\n",
       "    .dataframe thead tr:only-child th {\n",
       "        text-align: right;\n",
       "    }\n",
       "\n",
       "    .dataframe thead th {\n",
       "        text-align: left;\n",
       "    }\n",
       "\n",
       "    .dataframe tbody tr th {\n",
       "        vertical-align: top;\n",
       "    }\n",
       "</style>\n",
       "<table border=\"1\" class=\"dataframe\">\n",
       "  <thead>\n",
       "    <tr style=\"text-align: right;\">\n",
       "      <th></th>\n",
       "      <th>profit</th>\n",
       "    </tr>\n",
       "    <tr>\n",
       "      <th>medallion</th>\n",
       "      <th></th>\n",
       "    </tr>\n",
       "  </thead>\n",
       "  <tbody>\n",
       "    <tr>\n",
       "      <th>C89B3EC15CEC5EBF70DF5B23D7710F9E</th>\n",
       "      <td>16.945815</td>\n",
       "    </tr>\n",
       "    <tr>\n",
       "      <th>54AB418CE374F7CFC1A83B69BBFF2830</th>\n",
       "      <td>15.826076</td>\n",
       "    </tr>\n",
       "    <tr>\n",
       "      <th>8F4D9A07E1A3A6E4AE79A83490B927C6</th>\n",
       "      <td>14.923208</td>\n",
       "    </tr>\n",
       "    <tr>\n",
       "      <th>6BA106B588787D5B46D1BD358979A094</th>\n",
       "      <td>14.274705</td>\n",
       "    </tr>\n",
       "    <tr>\n",
       "      <th>8D20EDAB545FEC4586819668027855E3</th>\n",
       "      <td>14.171473</td>\n",
       "    </tr>\n",
       "    <tr>\n",
       "      <th>40A21AEA612376C62D1CB5308D4A4E58</th>\n",
       "      <td>14.120447</td>\n",
       "    </tr>\n",
       "    <tr>\n",
       "      <th>83C10B024D87A293958052BD1CA54AB2</th>\n",
       "      <td>13.919445</td>\n",
       "    </tr>\n",
       "    <tr>\n",
       "      <th>85082FDC26968800BBF5E381DBE57CE0</th>\n",
       "      <td>13.844066</td>\n",
       "    </tr>\n",
       "    <tr>\n",
       "      <th>3C4E85EE0BACAD3A758C153734111147</th>\n",
       "      <td>13.730975</td>\n",
       "    </tr>\n",
       "    <tr>\n",
       "      <th>C96F3CC83271F0FD30D0E0F00124E086</th>\n",
       "      <td>13.704165</td>\n",
       "    </tr>\n",
       "  </tbody>\n",
       "</table>\n",
       "</div>"
      ],
      "text/plain": [
       "                                     profit\n",
       "medallion                                  \n",
       "C89B3EC15CEC5EBF70DF5B23D7710F9E  16.945815\n",
       "54AB418CE374F7CFC1A83B69BBFF2830  15.826076\n",
       "8F4D9A07E1A3A6E4AE79A83490B927C6  14.923208\n",
       "6BA106B588787D5B46D1BD358979A094  14.274705\n",
       "8D20EDAB545FEC4586819668027855E3  14.171473\n",
       "40A21AEA612376C62D1CB5308D4A4E58  14.120447\n",
       "83C10B024D87A293958052BD1CA54AB2  13.919445\n",
       "85082FDC26968800BBF5E381DBE57CE0  13.844066\n",
       "3C4E85EE0BACAD3A758C153734111147  13.730975\n",
       "C96F3CC83271F0FD30D0E0F00124E086  13.704165"
      ]
     },
     "execution_count": 37,
     "metadata": {},
     "output_type": "execute_result"
    }
   ],
   "source": [
    "data[['medallion', 'profit']].groupby('medallion').mean().sort_values('profit',ascending=False)[:10]"
   ]
  },
  {
   "cell_type": "markdown",
   "metadata": {},
   "source": [
    "### Which weekday has more passengers?\n",
    "\n",
    "- Note that 0 is Monday and 6 is Sunday\n",
    "\n",
    "- From Monday to Weekend, the mean number of passengers for each trip is increasing"
   ]
  },
  {
   "cell_type": "code",
   "execution_count": 38,
   "metadata": {
    "scrolled": true
   },
   "outputs": [
    {
     "data": {
      "text/plain": [
       "<matplotlib.axes._subplots.AxesSubplot at 0x19cf3e990>"
      ]
     },
     "execution_count": 38,
     "metadata": {},
     "output_type": "execute_result"
    },
    {
     "data": {
      "image/png": "[encoded data removed]",
      "text/plain": [
       "<matplotlib.figure.Figure at 0x19cf47b90>"
      ]
     },
     "metadata": {},
     "output_type": "display_data"
    }
   ],
   "source": [
    "data[['pickup_weekday', 'passenger_count']].groupby('pickup_weekday').mean().plot(kind='barh')"
   ]
  },
  {
   "cell_type": "markdown",
   "metadata": {},
   "source": [
    "# Modeling"
   ]
  },
  {
   "cell_type": "markdown",
   "metadata": {},
   "source": [
    "\n",
    "\n",
    "- My strategy of model training is first get the baseline of individual models(meta learners). I will consider 2 factors when choosing single models. First, it has to be trained fast (that's why I won't choose algos such as SVM which is infamous for its low speed); Second, it has to be very different from other models, I will tell you why I do this below. For each model, I will try to fin-tune it (not guaranteed given the limited time).\n",
    "\n",
    "- After trained each individual model, I will wrap up by create a ** super learner ** using state-of-art stacking technique, which can hopefully boost the accuracy.\n"
   ]
  },
  {
   "cell_type": "code",
   "execution_count": 39,
   "metadata": {
    "collapsed": true
   },
   "outputs": [],
   "source": [
    "# Some helper function:\n",
    "def rmse(pred, label):\n",
    "    return np.sqrt(((pred - label) ** 2).mean())"
   ]
  },
  {
   "cell_type": "markdown",
   "metadata": {},
   "source": [
    "### Optimizing Training Data Size using Learning Curve:\n",
    "\n",
    "- From our exploration, it doesn't look necessary to use all of the data to train the model. Then how to select the optimized size of training example? I believe we can plot the **learning curve** to find the best training size\n",
    "\n",
    "\n",
    "- Look like keep adding training examples helps the model performs better. However, after 400,000 training examples the RMSE slope becomes  flatter, also for the sake of time efficiency, as well as because this is just for demonstration, I decided to use  data for training\n"
   ]
  },
  {
   "cell_type": "code",
   "execution_count": 42,
   "metadata": {
    "scrolled": true
   },
   "outputs": [
    {
     "name": "stdout",
     "output_type": "stream",
     "text": [
      "(10000, 29)\n",
      "medallion\n",
      "vendor_id\n",
      "payment_type\n",
      "store_and_fwd_flag\n",
      "geo_trip\n",
      "weekday_hour\n",
      "[0]\ttrain-rmse:4.3581\teval-rmse:4.46506\n",
      "Multiple eval metrics have been passed: 'eval-rmse' will be used for early stopping.\n",
      "\n",
      "Will train until eval-rmse hasn't improved in 10 rounds.\n",
      "[1]\ttrain-rmse:3.1594\teval-rmse:3.26166\n",
      "[2]\ttrain-rmse:2.32286\teval-rmse:2.46321\n",
      "[3]\ttrain-rmse:1.73702\teval-rmse:1.93728\n",
      "[4]\ttrain-rmse:1.34008\teval-rmse:1.62672\n",
      "[5]\ttrain-rmse:1.06857\teval-rmse:1.43108\n",
      "[6]\ttrain-rmse:0.886716\teval-rmse:1.31966\n",
      "[7]\ttrain-rmse:0.763608\teval-rmse:1.26847\n",
      "[8]\ttrain-rmse:0.682155\teval-rmse:1.23597\n",
      "[9]\ttrain-rmse:0.622268\teval-rmse:1.22225\n",
      "[10]\ttrain-rmse:0.574661\teval-rmse:1.21684\n",
      "[11]\ttrain-rmse:0.544481\teval-rmse:1.21102\n",
      "[12]\ttrain-rmse:0.517714\teval-rmse:1.21131\n",
      "[13]\ttrain-rmse:0.497463\teval-rmse:1.21384\n",
      "[14]\ttrain-rmse:0.483616\teval-rmse:1.21633\n",
      "[15]\ttrain-rmse:0.474061\teval-rmse:1.21548\n",
      "[16]\ttrain-rmse:0.461338\teval-rmse:1.21381\n",
      "[17]\ttrain-rmse:0.453442\teval-rmse:1.21551\n",
      "[18]\ttrain-rmse:0.443118\teval-rmse:1.21639\n",
      "[19]\ttrain-rmse:0.437378\teval-rmse:1.21688\n",
      "[20]\ttrain-rmse:0.430092\teval-rmse:1.21727\n",
      "[21]\ttrain-rmse:0.424259\teval-rmse:1.2199\n",
      "Stopping. Best iteration:\n",
      "[11]\ttrain-rmse:0.544481\teval-rmse:1.21102\n",
      "\n",
      "CV result for 10000 size is 1.211022\n",
      "(25000, 29)\n",
      "medallion\n",
      "vendor_id\n",
      "payment_type\n",
      "store_and_fwd_flag\n",
      "geo_trip\n",
      "weekday_hour\n",
      "[0]\ttrain-rmse:4.37146\teval-rmse:4.55957\n",
      "Multiple eval metrics have been passed: 'eval-rmse' will be used for early stopping.\n",
      "\n",
      "Will train until eval-rmse hasn't improved in 10 rounds.\n",
      "[1]\ttrain-rmse:3.16236\teval-rmse:3.34714\n",
      "[2]\ttrain-rmse:2.31705\teval-rmse:2.53277\n",
      "[3]\ttrain-rmse:1.74054\teval-rmse:2.00499\n",
      "[4]\ttrain-rmse:1.35181\teval-rmse:1.67921\n",
      "[5]\ttrain-rmse:1.09377\teval-rmse:1.50584\n",
      "[6]\ttrain-rmse:0.928899\teval-rmse:1.39555\n",
      "[7]\ttrain-rmse:0.823027\teval-rmse:1.33572\n",
      "[8]\ttrain-rmse:0.754562\teval-rmse:1.30348\n",
      "[9]\ttrain-rmse:0.707133\teval-rmse:1.28577\n",
      "[10]\ttrain-rmse:0.674242\teval-rmse:1.27758\n",
      "[11]\ttrain-rmse:0.652015\teval-rmse:1.27104\n",
      "[12]\ttrain-rmse:0.634591\teval-rmse:1.26794\n",
      "[13]\ttrain-rmse:0.619076\teval-rmse:1.26446\n",
      "[14]\ttrain-rmse:0.608333\teval-rmse:1.26441\n",
      "[15]\ttrain-rmse:0.598125\teval-rmse:1.26355\n",
      "[16]\ttrain-rmse:0.590095\teval-rmse:1.26251\n",
      "[17]\ttrain-rmse:0.58055\teval-rmse:1.26342\n",
      "[18]\ttrain-rmse:0.575423\teval-rmse:1.26542\n",
      "[19]\ttrain-rmse:0.572924\teval-rmse:1.26562\n",
      "[20]\ttrain-rmse:0.569634\teval-rmse:1.26441\n",
      "[21]\ttrain-rmse:0.560383\teval-rmse:1.26933\n",
      "[22]\ttrain-rmse:0.558352\teval-rmse:1.27012\n",
      "[23]\ttrain-rmse:0.552219\teval-rmse:1.27018\n",
      "[24]\ttrain-rmse:0.548889\teval-rmse:1.26988\n",
      "[25]\ttrain-rmse:0.543152\teval-rmse:1.2702\n",
      "[26]\ttrain-rmse:0.535587\teval-rmse:1.27079\n",
      "Stopping. Best iteration:\n",
      "[16]\ttrain-rmse:0.590095\teval-rmse:1.26251\n",
      "\n",
      "CV result for 25000 size is 1.262510\n",
      "(120000, 29)\n",
      "medallion\n",
      "vendor_id\n",
      "payment_type\n",
      "store_and_fwd_flag\n",
      "geo_trip\n",
      "weekday_hour\n",
      "[0]\ttrain-rmse:4.39531\teval-rmse:4.40095\n",
      "Multiple eval metrics have been passed: 'eval-rmse' will be used for early stopping.\n",
      "\n",
      "Will train until eval-rmse hasn't improved in 10 rounds.\n",
      "[1]\ttrain-rmse:3.17321\teval-rmse:3.18961\n",
      "[2]\ttrain-rmse:2.33779\teval-rmse:2.37227\n",
      "[3]\ttrain-rmse:1.77744\teval-rmse:1.83984\n",
      "[4]\ttrain-rmse:1.41353\teval-rmse:1.50738\n",
      "[5]\ttrain-rmse:1.18457\teval-rmse:1.30817\n",
      "[6]\ttrain-rmse:1.04694\teval-rmse:1.19946\n",
      "[7]\ttrain-rmse:0.962859\teval-rmse:1.13895\n",
      "[8]\ttrain-rmse:0.90695\teval-rmse:1.10625\n",
      "[9]\ttrain-rmse:0.873811\teval-rmse:1.0874\n",
      "[10]\ttrain-rmse:0.848977\teval-rmse:1.07687\n",
      "[11]\ttrain-rmse:0.831086\teval-rmse:1.07138\n",
      "[12]\ttrain-rmse:0.817513\teval-rmse:1.06941\n",
      "[13]\ttrain-rmse:0.804395\teval-rmse:1.06505\n",
      "[14]\ttrain-rmse:0.794065\teval-rmse:1.06349\n",
      "[15]\ttrain-rmse:0.784746\teval-rmse:1.06462\n",
      "[16]\ttrain-rmse:0.77883\teval-rmse:1.06356\n",
      "[17]\ttrain-rmse:0.773162\teval-rmse:1.06396\n",
      "[18]\ttrain-rmse:0.769857\teval-rmse:1.06328\n",
      "[19]\ttrain-rmse:0.765562\teval-rmse:1.0617\n",
      "[20]\ttrain-rmse:0.759294\teval-rmse:1.06126\n",
      "[21]\ttrain-rmse:0.754734\teval-rmse:1.05991\n",
      "[22]\ttrain-rmse:0.751127\teval-rmse:1.05976\n",
      "[23]\ttrain-rmse:0.747523\teval-rmse:1.05972\n",
      "[24]\ttrain-rmse:0.744625\teval-rmse:1.0584\n",
      "[25]\ttrain-rmse:0.739294\teval-rmse:1.05785\n",
      "[26]\ttrain-rmse:0.733856\teval-rmse:1.05869\n",
      "[27]\ttrain-rmse:0.72981\teval-rmse:1.05855\n",
      "[28]\ttrain-rmse:0.72496\teval-rmse:1.05828\n",
      "[29]\ttrain-rmse:0.723098\teval-rmse:1.05757\n",
      "[30]\ttrain-rmse:0.718963\teval-rmse:1.058\n",
      "[31]\ttrain-rmse:0.716407\teval-rmse:1.05769\n",
      "[32]\ttrain-rmse:0.710092\teval-rmse:1.05815\n",
      "[33]\ttrain-rmse:0.708709\teval-rmse:1.05748\n",
      "[34]\ttrain-rmse:0.703271\teval-rmse:1.05775\n",
      "[35]\ttrain-rmse:0.700159\teval-rmse:1.05783\n",
      "[36]\ttrain-rmse:0.69797\teval-rmse:1.05866\n",
      "[37]\ttrain-rmse:0.695597\teval-rmse:1.05863\n",
      "[38]\ttrain-rmse:0.691516\teval-rmse:1.0588\n",
      "[39]\ttrain-rmse:0.688565\teval-rmse:1.05913\n",
      "[40]\ttrain-rmse:0.684353\teval-rmse:1.05838\n",
      "[41]\ttrain-rmse:0.679891\teval-rmse:1.05863\n",
      "[42]\ttrain-rmse:0.678705\teval-rmse:1.05809\n",
      "[43]\ttrain-rmse:0.674534\teval-rmse:1.05918\n",
      "Stopping. Best iteration:\n",
      "[33]\ttrain-rmse:0.708709\teval-rmse:1.05748\n",
      "\n",
      "CV result for 120000 size is 1.057481\n",
      "(600000, 29)\n",
      "medallion\n",
      "vendor_id\n",
      "payment_type\n",
      "store_and_fwd_flag\n",
      "geo_trip\n",
      "weekday_hour\n",
      "[0]\ttrain-rmse:4.39948\teval-rmse:4.397\n",
      "Multiple eval metrics have been passed: 'eval-rmse' will be used for early stopping.\n",
      "\n",
      "Will train until eval-rmse hasn't improved in 10 rounds.\n",
      "[1]\ttrain-rmse:3.17616\teval-rmse:3.18134\n",
      "[2]\ttrain-rmse:2.34474\teval-rmse:2.36184\n",
      "[3]\ttrain-rmse:1.7963\teval-rmse:1.82623\n",
      "[4]\ttrain-rmse:1.44537\teval-rmse:1.48857\n",
      "[5]\ttrain-rmse:1.22931\teval-rmse:1.28761\n",
      "[6]\ttrain-rmse:1.10223\teval-rmse:1.17565\n",
      "[7]\ttrain-rmse:1.02621\teval-rmse:1.11568\n",
      "[8]\ttrain-rmse:0.980723\teval-rmse:1.08135\n",
      "[9]\ttrain-rmse:0.951327\teval-rmse:1.06165\n",
      "[10]\ttrain-rmse:0.931529\teval-rmse:1.04933\n",
      "[11]\ttrain-rmse:0.917425\teval-rmse:1.04487\n",
      "[12]\ttrain-rmse:0.907796\teval-rmse:1.04008\n",
      "[13]\ttrain-rmse:0.901364\teval-rmse:1.03725\n",
      "[14]\ttrain-rmse:0.894285\teval-rmse:1.03429\n",
      "[15]\ttrain-rmse:0.888806\teval-rmse:1.03316\n",
      "[16]\ttrain-rmse:0.883054\teval-rmse:1.03246\n",
      "[17]\ttrain-rmse:0.878357\teval-rmse:1.03143\n",
      "[18]\ttrain-rmse:0.874823\teval-rmse:1.03027\n",
      "[19]\ttrain-rmse:0.871844\teval-rmse:1.02906\n",
      "[20]\ttrain-rmse:0.869318\teval-rmse:1.02865\n",
      "[21]\ttrain-rmse:0.865658\teval-rmse:1.02806\n",
      "[22]\ttrain-rmse:0.863922\teval-rmse:1.02796\n",
      "[23]\ttrain-rmse:0.857406\teval-rmse:1.02601\n",
      "[24]\ttrain-rmse:0.85668\teval-rmse:1.02658\n",
      "[25]\ttrain-rmse:0.854802\teval-rmse:1.02563\n",
      "[26]\ttrain-rmse:0.850352\teval-rmse:1.02541\n",
      "[27]\ttrain-rmse:0.848668\teval-rmse:1.02528\n",
      "[28]\ttrain-rmse:0.844149\teval-rmse:1.02438\n",
      "[29]\ttrain-rmse:0.842014\teval-rmse:1.02377\n",
      "[30]\ttrain-rmse:0.841061\teval-rmse:1.02418\n",
      "[31]\ttrain-rmse:0.839033\teval-rmse:1.0241\n",
      "[32]\ttrain-rmse:0.837073\teval-rmse:1.02443\n",
      "[33]\ttrain-rmse:0.833889\teval-rmse:1.02407\n",
      "[34]\ttrain-rmse:0.832488\teval-rmse:1.02489\n",
      "[35]\ttrain-rmse:0.828717\teval-rmse:1.025\n",
      "[36]\ttrain-rmse:0.825328\teval-rmse:1.02409\n",
      "[37]\ttrain-rmse:0.823509\teval-rmse:1.02335\n",
      "[38]\ttrain-rmse:0.820039\teval-rmse:1.02279\n",
      "[39]\ttrain-rmse:0.818301\teval-rmse:1.02332\n",
      "[40]\ttrain-rmse:0.817064\teval-rmse:1.02279\n",
      "[41]\ttrain-rmse:0.813801\teval-rmse:1.02212\n",
      "[42]\ttrain-rmse:0.812188\teval-rmse:1.02174\n",
      "[43]\ttrain-rmse:0.809431\teval-rmse:1.02177\n",
      "[44]\ttrain-rmse:0.808596\teval-rmse:1.02227\n",
      "[45]\ttrain-rmse:0.807011\teval-rmse:1.02257\n",
      "[46]\ttrain-rmse:0.805371\teval-rmse:1.02291\n",
      "[47]\ttrain-rmse:0.804163\teval-rmse:1.02292\n",
      "[48]\ttrain-rmse:0.802896\teval-rmse:1.02317\n",
      "[49]\ttrain-rmse:0.801439\teval-rmse:1.02317\n",
      "[50]\ttrain-rmse:0.798861\teval-rmse:1.0237\n",
      "[51]\ttrain-rmse:0.797205\teval-rmse:1.02368\n",
      "[52]\ttrain-rmse:0.79444\teval-rmse:1.0239\n",
      "Stopping. Best iteration:\n",
      "[42]\ttrain-rmse:0.812188\teval-rmse:1.02174\n",
      "\n",
      "CV result for 600000 size is 1.021740\n",
      "(1000000, 29)\n",
      "medallion\n",
      "vendor_id\n",
      "payment_type\n",
      "store_and_fwd_flag\n",
      "geo_trip\n",
      "weekday_hour\n",
      "[0]\ttrain-rmse:4.40194\teval-rmse:4.40252\n",
      "Multiple eval metrics have been passed: 'eval-rmse' will be used for early stopping.\n",
      "\n",
      "Will train until eval-rmse hasn't improved in 10 rounds.\n",
      "[1]\ttrain-rmse:3.17769\teval-rmse:3.18831\n",
      "[2]\ttrain-rmse:2.34784\teval-rmse:2.36838\n",
      "[3]\ttrain-rmse:1.80016\teval-rmse:1.83386\n",
      "[4]\ttrain-rmse:1.44881\teval-rmse:1.49455\n",
      "[5]\ttrain-rmse:1.23419\teval-rmse:1.29225\n",
      "[6]\ttrain-rmse:1.10847\teval-rmse:1.17709\n",
      "[7]\ttrain-rmse:1.03638\teval-rmse:1.1144\n",
      "[8]\ttrain-rmse:0.993249\teval-rmse:1.0794\n",
      "[9]\ttrain-rmse:0.96739\teval-rmse:1.05792\n",
      "[10]\ttrain-rmse:0.950887\teval-rmse:1.04576\n"
     ]
    },
    {
     "name": "stdout",
     "output_type": "stream",
     "text": [
      "[11]\ttrain-rmse:0.936189\teval-rmse:1.0361\n",
      "[12]\ttrain-rmse:0.92572\teval-rmse:1.02958\n",
      "[13]\ttrain-rmse:0.916534\teval-rmse:1.02361\n",
      "[14]\ttrain-rmse:0.910497\teval-rmse:1.02135\n",
      "[15]\ttrain-rmse:0.905193\teval-rmse:1.01728\n",
      "[16]\ttrain-rmse:0.901092\teval-rmse:1.01573\n",
      "[17]\ttrain-rmse:0.895188\teval-rmse:1.01321\n",
      "[18]\ttrain-rmse:0.893043\teval-rmse:1.01274\n",
      "[19]\ttrain-rmse:0.890352\teval-rmse:1.01252\n",
      "[20]\ttrain-rmse:0.887802\teval-rmse:1.01152\n",
      "[21]\ttrain-rmse:0.884313\teval-rmse:1.0107\n",
      "[22]\ttrain-rmse:0.882189\teval-rmse:1.01015\n",
      "[23]\ttrain-rmse:0.878508\teval-rmse:1.00942\n",
      "[24]\ttrain-rmse:0.875039\teval-rmse:1.00699\n",
      "[25]\ttrain-rmse:0.873304\teval-rmse:1.00697\n",
      "[26]\ttrain-rmse:0.87158\teval-rmse:1.00614\n",
      "[27]\ttrain-rmse:0.87023\teval-rmse:1.00563\n",
      "[28]\ttrain-rmse:0.868607\teval-rmse:1.00551\n",
      "[29]\ttrain-rmse:0.86689\teval-rmse:1.00563\n",
      "[30]\ttrain-rmse:0.86572\teval-rmse:1.00554\n",
      "[31]\ttrain-rmse:0.864355\teval-rmse:1.00537\n",
      "[32]\ttrain-rmse:0.863015\teval-rmse:1.00477\n",
      "[33]\ttrain-rmse:0.859794\teval-rmse:1.00359\n",
      "[34]\ttrain-rmse:0.855699\teval-rmse:1.0025\n",
      "[35]\ttrain-rmse:0.854241\teval-rmse:1.00231\n",
      "[36]\ttrain-rmse:0.852949\teval-rmse:1.0024\n",
      "[37]\ttrain-rmse:0.848859\teval-rmse:1.00222\n",
      "[38]\ttrain-rmse:0.847449\teval-rmse:1.00196\n",
      "[39]\ttrain-rmse:0.846121\teval-rmse:1.00168\n",
      "[40]\ttrain-rmse:0.843849\teval-rmse:1.00183\n",
      "[41]\ttrain-rmse:0.841665\teval-rmse:1.00155\n",
      "[42]\ttrain-rmse:0.839181\teval-rmse:1.0016\n",
      "[43]\ttrain-rmse:0.837997\teval-rmse:1.00126\n",
      "[44]\ttrain-rmse:0.836734\teval-rmse:1.00123\n",
      "[45]\ttrain-rmse:0.833613\teval-rmse:1.00042\n",
      "[46]\ttrain-rmse:0.832979\teval-rmse:1.00053\n",
      "[47]\ttrain-rmse:0.832366\teval-rmse:1.00073\n",
      "[48]\ttrain-rmse:0.831989\teval-rmse:1.00068\n",
      "[49]\ttrain-rmse:0.829738\teval-rmse:1.00025\n",
      "[50]\ttrain-rmse:0.827774\teval-rmse:1.00025\n",
      "[51]\ttrain-rmse:0.826301\teval-rmse:1.00045\n",
      "[52]\ttrain-rmse:0.823641\teval-rmse:0.999905\n",
      "[53]\ttrain-rmse:0.821048\teval-rmse:0.999581\n",
      "[54]\ttrain-rmse:0.819763\teval-rmse:0.999603\n",
      "[55]\ttrain-rmse:0.817976\teval-rmse:0.999324\n",
      "[56]\ttrain-rmse:0.81727\teval-rmse:0.999273\n",
      "[57]\ttrain-rmse:0.816352\teval-rmse:0.999285\n",
      "[58]\ttrain-rmse:0.814628\teval-rmse:0.998921\n",
      "[59]\ttrain-rmse:0.812919\teval-rmse:0.999604\n",
      "[60]\ttrain-rmse:0.812152\teval-rmse:0.999693\n",
      "[61]\ttrain-rmse:0.810092\teval-rmse:0.999406\n",
      "[62]\ttrain-rmse:0.807577\teval-rmse:0.998739\n",
      "[63]\ttrain-rmse:0.806419\teval-rmse:0.99888\n",
      "[64]\ttrain-rmse:0.80536\teval-rmse:0.999081\n",
      "[65]\ttrain-rmse:0.803714\teval-rmse:0.998573\n",
      "[66]\ttrain-rmse:0.802629\teval-rmse:0.998631\n",
      "[67]\ttrain-rmse:0.801576\teval-rmse:0.998661\n",
      "[68]\ttrain-rmse:0.800034\teval-rmse:0.99888\n",
      "[69]\ttrain-rmse:0.798219\teval-rmse:0.998643\n",
      "[70]\ttrain-rmse:0.796432\teval-rmse:0.998248\n",
      "[71]\ttrain-rmse:0.795231\teval-rmse:0.998581\n",
      "[72]\ttrain-rmse:0.793651\teval-rmse:0.99859\n",
      "[73]\ttrain-rmse:0.7922\teval-rmse:0.998404\n",
      "[74]\ttrain-rmse:0.791358\teval-rmse:0.998442\n",
      "[75]\ttrain-rmse:0.790448\teval-rmse:0.998351\n",
      "[76]\ttrain-rmse:0.789737\teval-rmse:0.998369\n",
      "[77]\ttrain-rmse:0.788545\teval-rmse:0.998474\n",
      "[78]\ttrain-rmse:0.7883\teval-rmse:0.998333\n",
      "[79]\ttrain-rmse:0.787184\teval-rmse:0.998439\n",
      "[80]\ttrain-rmse:0.786572\teval-rmse:0.998621\n",
      "Stopping. Best iteration:\n",
      "[70]\ttrain-rmse:0.796432\teval-rmse:0.998248\n",
      "\n",
      "CV result for 1000000 size is 0.998248\n",
      "(1500000, 29)\n",
      "medallion\n",
      "vendor_id\n",
      "payment_type\n",
      "store_and_fwd_flag\n",
      "geo_trip\n",
      "weekday_hour\n",
      "[0]\ttrain-rmse:4.40533\teval-rmse:4.40411\n",
      "Multiple eval metrics have been passed: 'eval-rmse' will be used for early stopping.\n",
      "\n",
      "Will train until eval-rmse hasn't improved in 10 rounds.\n",
      "[1]\ttrain-rmse:3.1805\teval-rmse:3.18145\n",
      "[2]\ttrain-rmse:2.35162\teval-rmse:2.35726\n",
      "[3]\ttrain-rmse:1.80632\teval-rmse:1.81658\n",
      "[4]\ttrain-rmse:1.45764\teval-rmse:1.47589\n",
      "[5]\ttrain-rmse:1.24576\teval-rmse:1.27243\n",
      "[6]\ttrain-rmse:1.11986\teval-rmse:1.15567\n",
      "[7]\ttrain-rmse:1.04763\teval-rmse:1.09002\n",
      "[8]\ttrain-rmse:1.00684\teval-rmse:1.05676\n",
      "[9]\ttrain-rmse:0.977438\teval-rmse:1.0349\n",
      "[10]\ttrain-rmse:0.959726\teval-rmse:1.0222\n",
      "[11]\ttrain-rmse:0.948684\teval-rmse:1.01472\n",
      "[12]\ttrain-rmse:0.938799\teval-rmse:1.0094\n",
      "[13]\ttrain-rmse:0.931587\teval-rmse:1.00577\n",
      "[14]\ttrain-rmse:0.925896\teval-rmse:1.00244\n",
      "[15]\ttrain-rmse:0.921441\teval-rmse:1.00016\n",
      "[16]\ttrain-rmse:0.918363\teval-rmse:0.998479\n",
      "[17]\ttrain-rmse:0.913838\teval-rmse:0.995821\n",
      "[18]\ttrain-rmse:0.908211\teval-rmse:0.993025\n",
      "[19]\ttrain-rmse:0.904933\teval-rmse:0.992728\n",
      "[20]\ttrain-rmse:0.901481\teval-rmse:0.992504\n",
      "[21]\ttrain-rmse:0.898032\teval-rmse:0.992173\n",
      "[22]\ttrain-rmse:0.894383\teval-rmse:0.99019\n",
      "[23]\ttrain-rmse:0.89053\teval-rmse:0.988715\n",
      "[24]\ttrain-rmse:0.889247\teval-rmse:0.988611\n",
      "[25]\ttrain-rmse:0.887281\teval-rmse:0.988767\n",
      "[26]\ttrain-rmse:0.885291\teval-rmse:0.988413\n",
      "[27]\ttrain-rmse:0.881964\teval-rmse:0.987986\n",
      "[28]\ttrain-rmse:0.880638\teval-rmse:0.987947\n",
      "[29]\ttrain-rmse:0.876669\teval-rmse:0.987043\n",
      "[30]\ttrain-rmse:0.875688\teval-rmse:0.987026\n",
      "[31]\ttrain-rmse:0.874216\teval-rmse:0.98667\n",
      "[32]\ttrain-rmse:0.87259\teval-rmse:0.986543\n",
      "[33]\ttrain-rmse:0.870543\teval-rmse:0.986001\n",
      "[34]\ttrain-rmse:0.867742\teval-rmse:0.985666\n",
      "[35]\ttrain-rmse:0.865873\teval-rmse:0.984854\n",
      "[36]\ttrain-rmse:0.864636\teval-rmse:0.984707\n",
      "[37]\ttrain-rmse:0.863493\teval-rmse:0.984185\n",
      "[38]\ttrain-rmse:0.862461\teval-rmse:0.984182\n",
      "[39]\ttrain-rmse:0.861464\teval-rmse:0.984245\n",
      "[40]\ttrain-rmse:0.859635\teval-rmse:0.984304\n",
      "[41]\ttrain-rmse:0.856641\teval-rmse:0.98424\n",
      "[42]\ttrain-rmse:0.855576\teval-rmse:0.984188\n",
      "[43]\ttrain-rmse:0.853951\teval-rmse:0.98417\n",
      "[44]\ttrain-rmse:0.852094\teval-rmse:0.983891\n",
      "[45]\ttrain-rmse:0.85102\teval-rmse:0.983961\n",
      "[46]\ttrain-rmse:0.850184\teval-rmse:0.983989\n",
      "[47]\ttrain-rmse:0.847479\teval-rmse:0.983722\n",
      "[48]\ttrain-rmse:0.84678\teval-rmse:0.983557\n",
      "[49]\ttrain-rmse:0.846332\teval-rmse:0.983487\n",
      "[50]\ttrain-rmse:0.845749\teval-rmse:0.983584\n",
      "[51]\ttrain-rmse:0.8444\teval-rmse:0.983507\n",
      "[52]\ttrain-rmse:0.843471\teval-rmse:0.983471\n",
      "[53]\ttrain-rmse:0.843258\teval-rmse:0.983467\n",
      "[54]\ttrain-rmse:0.842674\teval-rmse:0.983242\n",
      "[55]\ttrain-rmse:0.84156\teval-rmse:0.982995\n",
      "[56]\ttrain-rmse:0.841081\teval-rmse:0.982894\n",
      "[57]\ttrain-rmse:0.840199\teval-rmse:0.983137\n",
      "[58]\ttrain-rmse:0.838256\teval-rmse:0.982895\n",
      "[59]\ttrain-rmse:0.837369\teval-rmse:0.982667\n",
      "[60]\ttrain-rmse:0.837008\teval-rmse:0.982589\n",
      "[61]\ttrain-rmse:0.835318\teval-rmse:0.98221\n",
      "[62]\ttrain-rmse:0.834407\teval-rmse:0.982143\n",
      "[63]\ttrain-rmse:0.832476\teval-rmse:0.982154\n",
      "[64]\ttrain-rmse:0.830516\teval-rmse:0.982396\n",
      "[65]\ttrain-rmse:0.829304\teval-rmse:0.982457\n",
      "[66]\ttrain-rmse:0.828219\teval-rmse:0.982625\n",
      "[67]\ttrain-rmse:0.827016\teval-rmse:0.982491\n",
      "[68]\ttrain-rmse:0.826303\teval-rmse:0.982522\n",
      "[69]\ttrain-rmse:0.825131\teval-rmse:0.982481\n",
      "[70]\ttrain-rmse:0.823269\teval-rmse:0.982223\n",
      "[71]\ttrain-rmse:0.822401\teval-rmse:0.982346\n",
      "[72]\ttrain-rmse:0.820797\teval-rmse:0.982173\n",
      "Stopping. Best iteration:\n",
      "[62]\ttrain-rmse:0.834407\teval-rmse:0.982143\n",
      "\n",
      "CV result for 1500000 size is 0.982143\n",
      "(2400000, 29)\n",
      "medallion\n",
      "vendor_id\n",
      "payment_type\n",
      "store_and_fwd_flag\n",
      "geo_trip\n",
      "weekday_hour\n",
      "[0]\ttrain-rmse:4.40404\teval-rmse:4.41047\n",
      "Multiple eval metrics have been passed: 'eval-rmse' will be used for early stopping.\n",
      "\n",
      "Will train until eval-rmse hasn't improved in 10 rounds.\n",
      "[1]\ttrain-rmse:3.18133\teval-rmse:3.18856\n",
      "[2]\ttrain-rmse:2.35391\teval-rmse:2.36269\n",
      "[3]\ttrain-rmse:1.80951\teval-rmse:1.82076\n",
      "[4]\ttrain-rmse:1.46309\teval-rmse:1.47882\n",
      "[5]\ttrain-rmse:1.25394\teval-rmse:1.27424\n",
      "[6]\ttrain-rmse:1.13083\teval-rmse:1.15611\n",
      "[7]\ttrain-rmse:1.05872\teval-rmse:1.08843\n",
      "[8]\ttrain-rmse:1.01529\teval-rmse:1.05022\n",
      "[9]\ttrain-rmse:0.989737\teval-rmse:1.0296\n",
      "[10]\ttrain-rmse:0.972186\teval-rmse:1.01503\n",
      "[11]\ttrain-rmse:0.960482\teval-rmse:1.00736\n",
      "[12]\ttrain-rmse:0.951695\teval-rmse:1.00194\n",
      "[13]\ttrain-rmse:0.945163\teval-rmse:0.998538\n",
      "[14]\ttrain-rmse:0.940436\teval-rmse:0.996452\n",
      "[15]\ttrain-rmse:0.93486\teval-rmse:0.993831\n",
      "[16]\ttrain-rmse:0.930267\teval-rmse:0.991018\n",
      "[17]\ttrain-rmse:0.92749\teval-rmse:0.990127\n",
      "[18]\ttrain-rmse:0.923846\teval-rmse:0.987749\n",
      "[19]\ttrain-rmse:0.920044\teval-rmse:0.985723\n",
      "[20]\ttrain-rmse:0.91795\teval-rmse:0.985348\n",
      "[21]\ttrain-rmse:0.915813\teval-rmse:0.985155\n",
      "[22]\ttrain-rmse:0.913427\teval-rmse:0.984252\n",
      "[23]\ttrain-rmse:0.912078\teval-rmse:0.984161\n",
      "[24]\ttrain-rmse:0.910356\teval-rmse:0.984288\n",
      "[25]\ttrain-rmse:0.909831\teval-rmse:0.983817\n",
      "[26]\ttrain-rmse:0.9073\teval-rmse:0.982785\n",
      "[27]\ttrain-rmse:0.906027\teval-rmse:0.982645\n",
      "[28]\ttrain-rmse:0.904264\teval-rmse:0.982231\n",
      "[29]\ttrain-rmse:0.901389\teval-rmse:0.982197\n",
      "[30]\ttrain-rmse:0.899212\teval-rmse:0.981502\n",
      "[31]\ttrain-rmse:0.897561\teval-rmse:0.980967\n"
     ]
    },
    {
     "name": "stdout",
     "output_type": "stream",
     "text": [
      "[32]\ttrain-rmse:0.896431\teval-rmse:0.980139\n",
      "[33]\ttrain-rmse:0.892742\teval-rmse:0.978449\n",
      "[34]\ttrain-rmse:0.891874\teval-rmse:0.978096\n",
      "[35]\ttrain-rmse:0.890528\teval-rmse:0.977368\n",
      "[36]\ttrain-rmse:0.888897\teval-rmse:0.976553\n",
      "[37]\ttrain-rmse:0.887632\teval-rmse:0.976496\n",
      "[38]\ttrain-rmse:0.887218\teval-rmse:0.976638\n",
      "[39]\ttrain-rmse:0.886594\teval-rmse:0.976925\n",
      "[40]\ttrain-rmse:0.883599\teval-rmse:0.9763\n",
      "[41]\ttrain-rmse:0.882492\teval-rmse:0.976466\n",
      "[42]\ttrain-rmse:0.880512\teval-rmse:0.975847\n",
      "[43]\ttrain-rmse:0.879956\teval-rmse:0.975727\n",
      "[44]\ttrain-rmse:0.877977\teval-rmse:0.97573\n",
      "[45]\ttrain-rmse:0.876523\teval-rmse:0.975762\n",
      "[46]\ttrain-rmse:0.875383\teval-rmse:0.975867\n",
      "[47]\ttrain-rmse:0.874964\teval-rmse:0.97571\n",
      "[48]\ttrain-rmse:0.87279\teval-rmse:0.975186\n",
      "[49]\ttrain-rmse:0.872177\teval-rmse:0.975133\n",
      "[50]\ttrain-rmse:0.870363\teval-rmse:0.97468\n",
      "[51]\ttrain-rmse:0.869391\teval-rmse:0.974511\n",
      "[52]\ttrain-rmse:0.867701\teval-rmse:0.974029\n",
      "[53]\ttrain-rmse:0.867424\teval-rmse:0.974064\n",
      "[54]\ttrain-rmse:0.866744\teval-rmse:0.973939\n",
      "[55]\ttrain-rmse:0.866057\teval-rmse:0.973877\n",
      "[56]\ttrain-rmse:0.865365\teval-rmse:0.973811\n",
      "[57]\ttrain-rmse:0.864478\teval-rmse:0.973836\n",
      "[58]\ttrain-rmse:0.863581\teval-rmse:0.97406\n",
      "[59]\ttrain-rmse:0.862642\teval-rmse:0.973843\n",
      "[60]\ttrain-rmse:0.861258\teval-rmse:0.973892\n",
      "[61]\ttrain-rmse:0.860566\teval-rmse:0.973793\n",
      "[62]\ttrain-rmse:0.859766\teval-rmse:0.97356\n",
      "[63]\ttrain-rmse:0.858124\teval-rmse:0.973204\n",
      "[64]\ttrain-rmse:0.85674\teval-rmse:0.973146\n",
      "[65]\ttrain-rmse:0.855745\teval-rmse:0.973245\n",
      "[66]\ttrain-rmse:0.854587\teval-rmse:0.9731\n",
      "[67]\ttrain-rmse:0.85316\teval-rmse:0.973077\n",
      "[68]\ttrain-rmse:0.851422\teval-rmse:0.972241\n",
      "[69]\ttrain-rmse:0.850485\teval-rmse:0.972454\n",
      "[70]\ttrain-rmse:0.848771\teval-rmse:0.972249\n",
      "[71]\ttrain-rmse:0.847331\teval-rmse:0.971886\n",
      "[72]\ttrain-rmse:0.846858\teval-rmse:0.971857\n",
      "[73]\ttrain-rmse:0.845753\teval-rmse:0.971974\n",
      "[74]\ttrain-rmse:0.843684\teval-rmse:0.971676\n",
      "[75]\ttrain-rmse:0.84286\teval-rmse:0.97148\n",
      "[76]\ttrain-rmse:0.841991\teval-rmse:0.971437\n",
      "[77]\ttrain-rmse:0.841274\teval-rmse:0.971363\n",
      "[78]\ttrain-rmse:0.840253\teval-rmse:0.971271\n",
      "[79]\ttrain-rmse:0.839856\teval-rmse:0.971199\n",
      "[80]\ttrain-rmse:0.83948\teval-rmse:0.971391\n",
      "[81]\ttrain-rmse:0.838528\teval-rmse:0.971403\n",
      "[82]\ttrain-rmse:0.83699\teval-rmse:0.970977\n",
      "[83]\ttrain-rmse:0.83644\teval-rmse:0.970873\n",
      "[84]\ttrain-rmse:0.835539\teval-rmse:0.97107\n",
      "[85]\ttrain-rmse:0.83516\teval-rmse:0.971121\n",
      "[86]\ttrain-rmse:0.834744\teval-rmse:0.971328\n",
      "[87]\ttrain-rmse:0.834229\teval-rmse:0.971423\n",
      "[88]\ttrain-rmse:0.833851\teval-rmse:0.971621\n",
      "[89]\ttrain-rmse:0.832708\teval-rmse:0.971606\n",
      "[90]\ttrain-rmse:0.831379\teval-rmse:0.971243\n",
      "[91]\ttrain-rmse:0.830316\teval-rmse:0.97129\n",
      "[92]\ttrain-rmse:0.829181\teval-rmse:0.971055\n",
      "[93]\ttrain-rmse:0.82875\teval-rmse:0.971142\n",
      "Stopping. Best iteration:\n",
      "[83]\ttrain-rmse:0.83644\teval-rmse:0.970873\n",
      "\n",
      "CV result for 2400000 size is 0.970873\n"
     ]
    }
   ],
   "source": [
    "size_list = []\n",
    "cv_res_list =[]\n",
    "\n",
    "\n",
    "for n_training in [10000,25000,120000,600000,1000000,1500000,2400000]:\n",
    "    np.random.seed(1028)\n",
    "    samp = data.sample(n=n_training, replace=False)\n",
    "    print(samp.shape)\n",
    "    # Label encoding obj vars:\n",
    "    for c in samp.dtypes[samp.dtypes == object].index.values:\n",
    "        lb_enc = LabelEncoder()\n",
    "        samp[c] = lb_enc.fit_transform(samp[c])\n",
    "        print(c)\n",
    "    # train test split:\n",
    "    tr_r = int(len(samp)*0.8)\n",
    "    train = samp[:tr_r]\n",
    "    test = samp[tr_r:]\n",
    "    y_train = train['profit']\n",
    "    y_test = test['profit']\n",
    "    del train['profit']\n",
    "    del test['profit']\n",
    "    ###Train:\n",
    "    y_mean = samp['profit'].mean()\n",
    "    \n",
    "    xgb_params = {\n",
    "        'eta': 0.3, #0.3 just for fast converge, actual training should be lower\n",
    "        'max_depth': 9,\n",
    "        'subsample': 0.80,\n",
    "        'objective': 'reg:linear',\n",
    "        'eval_metric': 'rmse',\n",
    "        'base_score': y_mean,\n",
    "        'silent': 1,\n",
    "        'booster':'gbtree'\n",
    "    }\n",
    "    dtrain = xgb.DMatrix(train, y_train)\n",
    "    dtest = xgb.DMatrix(test,y_test)\n",
    "    watchlist  = [ (dtrain,'train'),(dtest,'eval')]\n",
    "    model = xgb.train(xgb_params, dtrain, 1000, watchlist, early_stopping_rounds=10) \n",
    "     \n",
    "        \n",
    "    size_list.append(n_training)\n",
    "    cv_res_list.append(model.best_score)\n",
    "    print(\"CV result for %d size is %f\")%(n_training,model.best_score)\n"
   ]
  },
  {
   "cell_type": "code",
   "execution_count": 43,
   "metadata": {},
   "outputs": [
    {
     "data": {
      "text/plain": [
       "<matplotlib.axes._subplots.AxesSubplot at 0x13f181550>"
      ]
     },
     "execution_count": 43,
     "metadata": {},
     "output_type": "execute_result"
    },
    {
     "data": {
      "image/png": "[encoded data removed]",
      "text/plain": [
       "<matplotlib.figure.Figure at 0x1a4586150>"
      ]
     },
     "metadata": {},
     "output_type": "display_data"
    }
   ],
   "source": [
    "learn_curve = pd.DataFrame({\n",
    "    'train_size': size_list,\n",
    "    'rmse': cv_res_list\n",
    "})\n",
    "\n",
    "\n",
    "learn_curve.plot(x='train_size',y='rmse')"
   ]
  },
  {
   "cell_type": "markdown",
   "metadata": {},
   "source": [
    "### Ensemble Models:\n",
    "\n",
    " - To boost the performance of models, we apply state of art stacking method to create a super learner. \n",
    " \n",
    " - Given the limited time, I will only create 2 meta learner and wrap up with a neural network using Tensorflow"
   ]
  },
  {
   "cell_type": "code",
   "execution_count": 44,
   "metadata": {
    "collapsed": true
   },
   "outputs": [],
   "source": [
    "# Initialize:\n",
    "model_list = ['xgb_tree','lightgbm','ensemble_NN']\n"
   ]
  },
  {
   "cell_type": "code",
   "execution_count": 45,
   "metadata": {
    "collapsed": true
   },
   "outputs": [],
   "source": [
    "model_rmse = [0]*3"
   ]
  },
  {
   "cell_type": "code",
   "execution_count": 52,
   "metadata": {
    "scrolled": true
   },
   "outputs": [
    {
     "name": "stdout",
     "output_type": "stream",
     "text": [
      "medallion\n",
      "vendor_id\n",
      "payment_type\n",
      "store_and_fwd_flag\n",
      "geo_trip\n",
      "weekday_hour\n",
      "train shape:\n",
      "(1900000, 28)\n",
      "valid shape:\n",
      "(400000, 28)\n",
      "test shape:\n",
      "(100000, 28)\n"
     ]
    }
   ],
   "source": [
    "# Randomly Sample:\n",
    "np.random.seed(11)\n",
    "samp = data.sample(n=2400000, replace=False)\n",
    "\n",
    "#Label Encoding:\n",
    "for c in samp.dtypes[samp.dtypes == object].index.values:\n",
    "    lb_enc = LabelEncoder()\n",
    "    samp[c] = lb_enc.fit_transform(samp[c])\n",
    "    print(c)\n",
    "\n",
    "# train test split:\n",
    "\n",
    "train = samp[:1900000]\n",
    "valid = samp[1900000:2300000]\n",
    "test = samp[2300000:]\n",
    "\n",
    "y_train = train['profit']\n",
    "y_valid = valid['profit']\n",
    "y_test = test['profit']\n",
    "del train['profit']\n",
    "del valid['profit']\n",
    "del test['profit']\n",
    "\n",
    "print('train shape:')\n",
    "print(train.shape)\n",
    "print('valid shape:')\n",
    "print(valid.shape)\n",
    "print('test shape:')\n",
    "print(test.shape)"
   ]
  },
  {
   "cell_type": "markdown",
   "metadata": {},
   "source": [
    "### Level 1 Meta Learner 1: XGBOOST_GBTREE:\n",
    "\n",
    "- This algorithm uses regression tree as the base learner"
   ]
  },
  {
   "cell_type": "code",
   "execution_count": 58,
   "metadata": {
    "collapsed": true
   },
   "outputs": [],
   "source": [
    "\n",
    "###Train:\n",
    "y_mean = y_train.mean()\n",
    "\n",
    "xgb_params = {\n",
    "    'eta': 0.1, #0.1 just for demonstration, for performance should be less than 0.05\n",
    "    'max_depth': 9,\n",
    "    'subsample': 0.80,\n",
    "    'objective': 'reg:linear',\n",
    "    'eval_metric': 'rmse',\n",
    "    'base_score': y_mean,\n",
    "    'silent': 1,\n",
    "    'booster':'gbtree'\n",
    "}\n",
    "\n",
    "dtrain = xgb.DMatrix(train, y_train)\n",
    "dtrain2 = xgb.DMatrix(train)\n",
    "\n",
    "dvali = xgb.DMatrix(valid, y_valid)\n",
    "dtest = xgb.DMatrix(test)\n"
   ]
  },
  {
   "cell_type": "code",
   "execution_count": 59,
   "metadata": {},
   "outputs": [
    {
     "name": "stdout",
     "output_type": "stream",
     "text": [
      "[0]\ttrain-rmse:5.58817\teval-rmse:5.59481\n",
      "Multiple eval metrics have been passed: 'eval-rmse' will be used for early stopping.\n",
      "\n",
      "Will train until eval-rmse hasn't improved in 10 rounds.\n",
      "[1]\ttrain-rmse:5.05319\teval-rmse:5.05981\n",
      "[2]\ttrain-rmse:4.57346\teval-rmse:4.58017\n",
      "[3]\ttrain-rmse:4.14384\teval-rmse:4.15081\n",
      "[4]\ttrain-rmse:3.75936\teval-rmse:3.76671\n",
      "[5]\ttrain-rmse:3.41577\teval-rmse:3.42391\n",
      "[6]\ttrain-rmse:3.10953\teval-rmse:3.11854\n",
      "[7]\ttrain-rmse:2.83649\teval-rmse:2.84658\n",
      "[8]\ttrain-rmse:2.5936\teval-rmse:2.60489\n",
      "[9]\ttrain-rmse:2.37813\teval-rmse:2.39083\n",
      "[10]\ttrain-rmse:2.1877\teval-rmse:2.20221\n",
      "[11]\ttrain-rmse:2.02001\teval-rmse:2.03649\n",
      "[12]\ttrain-rmse:1.87256\teval-rmse:1.89108\n",
      "[13]\ttrain-rmse:1.74312\teval-rmse:1.76378\n",
      "[14]\ttrain-rmse:1.62994\teval-rmse:1.65284\n",
      "[15]\ttrain-rmse:1.53171\teval-rmse:1.5569\n",
      "[16]\ttrain-rmse:1.44639\teval-rmse:1.47426\n",
      "[17]\ttrain-rmse:1.37261\teval-rmse:1.40337\n",
      "[18]\ttrain-rmse:1.30902\teval-rmse:1.34234\n",
      "[19]\ttrain-rmse:1.25469\teval-rmse:1.29055\n",
      "[20]\ttrain-rmse:1.20814\teval-rmse:1.24666\n",
      "[21]\ttrain-rmse:1.16799\teval-rmse:1.20903\n",
      "[22]\ttrain-rmse:1.13432\teval-rmse:1.17768\n",
      "[23]\ttrain-rmse:1.10495\teval-rmse:1.15088\n",
      "[24]\ttrain-rmse:1.0801\teval-rmse:1.12817\n",
      "[25]\ttrain-rmse:1.05951\teval-rmse:1.11011\n",
      "[26]\ttrain-rmse:1.04156\teval-rmse:1.09426\n",
      "[27]\ttrain-rmse:1.02622\teval-rmse:1.08069\n",
      "[28]\ttrain-rmse:1.01336\teval-rmse:1.0694\n",
      "[29]\ttrain-rmse:1.00266\teval-rmse:1.06018\n",
      "[30]\ttrain-rmse:0.992837\teval-rmse:1.05194\n",
      "[31]\ttrain-rmse:0.985089\teval-rmse:1.04573\n",
      "[32]\ttrain-rmse:0.977463\teval-rmse:1.0394\n",
      "[33]\ttrain-rmse:0.970962\teval-rmse:1.03424\n",
      "[34]\ttrain-rmse:0.965493\teval-rmse:1.02991\n",
      "[35]\ttrain-rmse:0.960396\teval-rmse:1.02611\n",
      "[36]\ttrain-rmse:0.955874\teval-rmse:1.02316\n",
      "[37]\ttrain-rmse:0.951386\teval-rmse:1.0198\n",
      "[38]\ttrain-rmse:0.947693\teval-rmse:1.01723\n",
      "[39]\ttrain-rmse:0.944561\teval-rmse:1.01532\n",
      "[40]\ttrain-rmse:0.941363\teval-rmse:1.01324\n",
      "[41]\ttrain-rmse:0.938424\teval-rmse:1.01119\n",
      "[42]\ttrain-rmse:0.935854\teval-rmse:1.00961\n",
      "[43]\ttrain-rmse:0.933747\teval-rmse:1.00825\n",
      "[44]\ttrain-rmse:0.931595\teval-rmse:1.00725\n",
      "[45]\ttrain-rmse:0.929222\teval-rmse:1.00628\n",
      "[46]\ttrain-rmse:0.926732\teval-rmse:1.00465\n",
      "[47]\ttrain-rmse:0.924518\teval-rmse:1.00327\n",
      "[48]\ttrain-rmse:0.922845\teval-rmse:1.00253\n",
      "[49]\ttrain-rmse:0.921414\teval-rmse:1.00178\n",
      "[50]\ttrain-rmse:0.919998\teval-rmse:1.00096\n",
      "[51]\ttrain-rmse:0.91765\teval-rmse:0.999518\n",
      "[52]\ttrain-rmse:0.91617\teval-rmse:0.998585\n",
      "[53]\ttrain-rmse:0.914461\teval-rmse:0.997648\n",
      "[54]\ttrain-rmse:0.912779\teval-rmse:0.996773\n",
      "[55]\ttrain-rmse:0.911067\teval-rmse:0.995864\n",
      "[56]\ttrain-rmse:0.909679\teval-rmse:0.995682\n",
      "[57]\ttrain-rmse:0.908423\teval-rmse:0.994976\n",
      "[58]\ttrain-rmse:0.907449\teval-rmse:0.994692\n",
      "[59]\ttrain-rmse:0.906066\teval-rmse:0.994193\n",
      "[60]\ttrain-rmse:0.904389\teval-rmse:0.993365\n",
      "[61]\ttrain-rmse:0.902615\teval-rmse:0.992343\n",
      "[62]\ttrain-rmse:0.901757\teval-rmse:0.992149\n",
      "[63]\ttrain-rmse:0.901053\teval-rmse:0.991894\n",
      "[64]\ttrain-rmse:0.899543\teval-rmse:0.991548\n",
      "[65]\ttrain-rmse:0.898222\teval-rmse:0.990837\n",
      "[66]\ttrain-rmse:0.897478\teval-rmse:0.990734\n",
      "[67]\ttrain-rmse:0.89699\teval-rmse:0.990613\n",
      "[68]\ttrain-rmse:0.895467\teval-rmse:0.989813\n",
      "[69]\ttrain-rmse:0.894863\teval-rmse:0.989609\n",
      "[70]\ttrain-rmse:0.893899\teval-rmse:0.98949\n",
      "[71]\ttrain-rmse:0.893196\teval-rmse:0.989335\n",
      "[72]\ttrain-rmse:0.89248\teval-rmse:0.98902\n",
      "[73]\ttrain-rmse:0.891529\teval-rmse:0.988538\n",
      "[74]\ttrain-rmse:0.891146\teval-rmse:0.988582\n",
      "[75]\ttrain-rmse:0.89037\teval-rmse:0.988485\n",
      "[76]\ttrain-rmse:0.890064\teval-rmse:0.988473\n",
      "[77]\ttrain-rmse:0.889229\teval-rmse:0.988126\n",
      "[78]\ttrain-rmse:0.888481\teval-rmse:0.987898\n",
      "[79]\ttrain-rmse:0.887488\teval-rmse:0.98735\n",
      "[80]\ttrain-rmse:0.886887\teval-rmse:0.986948\n",
      "[81]\ttrain-rmse:0.886211\teval-rmse:0.986785\n",
      "[82]\ttrain-rmse:0.885648\teval-rmse:0.986706\n",
      "[83]\ttrain-rmse:0.884986\teval-rmse:0.98633\n",
      "[84]\ttrain-rmse:0.884406\teval-rmse:0.986011\n",
      "[85]\ttrain-rmse:0.883843\teval-rmse:0.985967\n",
      "[86]\ttrain-rmse:0.883433\teval-rmse:0.985884\n",
      "[87]\ttrain-rmse:0.882735\teval-rmse:0.985492\n",
      "[88]\ttrain-rmse:0.882432\teval-rmse:0.985395\n",
      "[89]\ttrain-rmse:0.881858\teval-rmse:0.985259\n",
      "[90]\ttrain-rmse:0.88076\teval-rmse:0.984774\n",
      "[91]\ttrain-rmse:0.88013\teval-rmse:0.984569\n",
      "[92]\ttrain-rmse:0.879826\teval-rmse:0.984483\n",
      "[93]\ttrain-rmse:0.879294\teval-rmse:0.984257\n",
      "[94]\ttrain-rmse:0.878111\teval-rmse:0.983857\n",
      "[95]\ttrain-rmse:0.877446\teval-rmse:0.983749\n",
      "[96]\ttrain-rmse:0.876581\teval-rmse:0.983335\n",
      "[97]\ttrain-rmse:0.875721\teval-rmse:0.983139\n",
      "[98]\ttrain-rmse:0.875329\teval-rmse:0.983045\n",
      "[99]\ttrain-rmse:0.874648\teval-rmse:0.983038\n",
      "[100]\ttrain-rmse:0.874283\teval-rmse:0.982779\n",
      "[101]\ttrain-rmse:0.873732\teval-rmse:0.982645\n",
      "[102]\ttrain-rmse:0.873357\teval-rmse:0.982561\n",
      "[103]\ttrain-rmse:0.872642\teval-rmse:0.982404\n",
      "[104]\ttrain-rmse:0.871984\teval-rmse:0.982116\n",
      "[105]\ttrain-rmse:0.87181\teval-rmse:0.98211\n",
      "[106]\ttrain-rmse:0.871308\teval-rmse:0.98187\n",
      "[107]\ttrain-rmse:0.870968\teval-rmse:0.981784\n",
      "[108]\ttrain-rmse:0.870454\teval-rmse:0.981538\n",
      "[109]\ttrain-rmse:0.870016\teval-rmse:0.981375\n",
      "[110]\ttrain-rmse:0.86925\teval-rmse:0.981122\n",
      "[111]\ttrain-rmse:0.868709\teval-rmse:0.980982\n",
      "[112]\ttrain-rmse:0.86811\teval-rmse:0.980913\n",
      "[113]\ttrain-rmse:0.866892\teval-rmse:0.980451\n",
      "[114]\ttrain-rmse:0.86631\teval-rmse:0.980292\n",
      "[115]\ttrain-rmse:0.86596\teval-rmse:0.980225\n",
      "[116]\ttrain-rmse:0.865436\teval-rmse:0.980025\n",
      "[117]\ttrain-rmse:0.86495\teval-rmse:0.980144\n",
      "[118]\ttrain-rmse:0.864028\teval-rmse:0.979713\n",
      "[119]\ttrain-rmse:0.86385\teval-rmse:0.979763\n",
      "[120]\ttrain-rmse:0.86342\teval-rmse:0.979625\n",
      "[121]\ttrain-rmse:0.863058\teval-rmse:0.979596\n",
      "[122]\ttrain-rmse:0.862456\teval-rmse:0.979518\n",
      "[123]\ttrain-rmse:0.861684\teval-rmse:0.979325\n",
      "[124]\ttrain-rmse:0.860742\teval-rmse:0.978827\n",
      "[125]\ttrain-rmse:0.860208\teval-rmse:0.978605\n",
      "[126]\ttrain-rmse:0.859611\teval-rmse:0.978416\n",
      "[127]\ttrain-rmse:0.859196\teval-rmse:0.978372\n",
      "[128]\ttrain-rmse:0.858592\teval-rmse:0.9781\n",
      "[129]\ttrain-rmse:0.858312\teval-rmse:0.978012\n",
      "[130]\ttrain-rmse:0.857711\teval-rmse:0.977786\n",
      "[131]\ttrain-rmse:0.857434\teval-rmse:0.977655\n",
      "[132]\ttrain-rmse:0.857253\teval-rmse:0.97774\n",
      "[133]\ttrain-rmse:0.857013\teval-rmse:0.9777\n",
      "[134]\ttrain-rmse:0.856844\teval-rmse:0.977713\n",
      "[135]\ttrain-rmse:0.856542\teval-rmse:0.977712\n",
      "[136]\ttrain-rmse:0.856174\teval-rmse:0.977633\n",
      "[137]\ttrain-rmse:0.855729\teval-rmse:0.977475\n",
      "[138]\ttrain-rmse:0.854942\teval-rmse:0.977271\n",
      "[139]\ttrain-rmse:0.854713\teval-rmse:0.977184\n",
      "[140]\ttrain-rmse:0.85445\teval-rmse:0.977068\n",
      "[141]\ttrain-rmse:0.85396\teval-rmse:0.97708\n",
      "[142]\ttrain-rmse:0.853456\teval-rmse:0.977029\n",
      "[143]\ttrain-rmse:0.853194\teval-rmse:0.977005\n",
      "[144]\ttrain-rmse:0.852683\teval-rmse:0.977025\n",
      "[145]\ttrain-rmse:0.852351\teval-rmse:0.976969\n",
      "[146]\ttrain-rmse:0.851816\teval-rmse:0.976836\n",
      "[147]\ttrain-rmse:0.851199\teval-rmse:0.976635\n",
      "[148]\ttrain-rmse:0.850954\teval-rmse:0.976447\n",
      "[149]\ttrain-rmse:0.850202\teval-rmse:0.97629\n",
      "[150]\ttrain-rmse:0.849516\teval-rmse:0.976065\n",
      "[151]\ttrain-rmse:0.849139\teval-rmse:0.975988\n",
      "[152]\ttrain-rmse:0.848854\teval-rmse:0.975931\n",
      "[153]\ttrain-rmse:0.848534\teval-rmse:0.975811\n",
      "[154]\ttrain-rmse:0.848072\teval-rmse:0.975802\n",
      "[155]\ttrain-rmse:0.84785\teval-rmse:0.975758\n",
      "[156]\ttrain-rmse:0.847398\teval-rmse:0.975694\n",
      "[157]\ttrain-rmse:0.847253\teval-rmse:0.975685\n",
      "[158]\ttrain-rmse:0.846797\teval-rmse:0.975573\n",
      "[159]\ttrain-rmse:0.846055\teval-rmse:0.975344\n",
      "[160]\ttrain-rmse:0.845851\teval-rmse:0.975333\n",
      "[161]\ttrain-rmse:0.845676\teval-rmse:0.975268\n",
      "[162]\ttrain-rmse:0.84548\teval-rmse:0.975242\n",
      "[163]\ttrain-rmse:0.845223\teval-rmse:0.975033\n",
      "[164]\ttrain-rmse:0.844779\teval-rmse:0.974874\n",
      "[165]\ttrain-rmse:0.844526\teval-rmse:0.974985\n",
      "[166]\ttrain-rmse:0.843846\teval-rmse:0.974862\n",
      "[167]\ttrain-rmse:0.843507\teval-rmse:0.974805\n",
      "[168]\ttrain-rmse:0.842829\teval-rmse:0.974577\n",
      "[169]\ttrain-rmse:0.842483\teval-rmse:0.974591\n",
      "[170]\ttrain-rmse:0.842231\teval-rmse:0.974713\n",
      "[171]\ttrain-rmse:0.841892\teval-rmse:0.974687\n",
      "[172]\ttrain-rmse:0.841505\teval-rmse:0.974585\n",
      "[173]\ttrain-rmse:0.841039\teval-rmse:0.974472\n",
      "[174]\ttrain-rmse:0.840949\teval-rmse:0.974422\n",
      "[175]\ttrain-rmse:0.840681\teval-rmse:0.974317\n",
      "[176]\ttrain-rmse:0.840276\teval-rmse:0.974261\n",
      "[177]\ttrain-rmse:0.839923\teval-rmse:0.974163\n",
      "[178]\ttrain-rmse:0.839798\teval-rmse:0.974081\n",
      "[179]\ttrain-rmse:0.83943\teval-rmse:0.973979\n",
      "[180]\ttrain-rmse:0.839319\teval-rmse:0.973968\n",
      "[181]\ttrain-rmse:0.83886\teval-rmse:0.974065\n",
      "[182]\ttrain-rmse:0.83862\teval-rmse:0.974044\n",
      "[183]\ttrain-rmse:0.838574\teval-rmse:0.974042\n",
      "[184]\ttrain-rmse:0.838003\teval-rmse:0.973885\n"
     ]
    },
    {
     "name": "stdout",
     "output_type": "stream",
     "text": [
      "[185]\ttrain-rmse:0.837704\teval-rmse:0.973848\n",
      "[186]\ttrain-rmse:0.83765\teval-rmse:0.973835\n",
      "[187]\ttrain-rmse:0.837238\teval-rmse:0.973807\n",
      "[188]\ttrain-rmse:0.837146\teval-rmse:0.973703\n",
      "[189]\ttrain-rmse:0.836787\teval-rmse:0.973601\n",
      "[190]\ttrain-rmse:0.836133\teval-rmse:0.973372\n",
      "[191]\ttrain-rmse:0.835991\teval-rmse:0.973374\n",
      "[192]\ttrain-rmse:0.835697\teval-rmse:0.973289\n",
      "[193]\ttrain-rmse:0.835237\teval-rmse:0.973047\n",
      "[194]\ttrain-rmse:0.835043\teval-rmse:0.972925\n",
      "[195]\ttrain-rmse:0.834988\teval-rmse:0.972931\n",
      "[196]\ttrain-rmse:0.834649\teval-rmse:0.97289\n",
      "[197]\ttrain-rmse:0.834354\teval-rmse:0.972825\n",
      "[198]\ttrain-rmse:0.834224\teval-rmse:0.972758\n",
      "[199]\ttrain-rmse:0.833665\teval-rmse:0.972686\n",
      "[200]\ttrain-rmse:0.833498\teval-rmse:0.972596\n",
      "[201]\ttrain-rmse:0.833257\teval-rmse:0.972552\n",
      "[202]\ttrain-rmse:0.833066\teval-rmse:0.97255\n",
      "[203]\ttrain-rmse:0.83232\teval-rmse:0.972336\n",
      "[204]\ttrain-rmse:0.831916\teval-rmse:0.972346\n",
      "[205]\ttrain-rmse:0.831586\teval-rmse:0.972304\n",
      "[206]\ttrain-rmse:0.831526\teval-rmse:0.972278\n",
      "[207]\ttrain-rmse:0.831203\teval-rmse:0.972339\n",
      "[208]\ttrain-rmse:0.830564\teval-rmse:0.972133\n",
      "[209]\ttrain-rmse:0.830388\teval-rmse:0.972203\n",
      "[210]\ttrain-rmse:0.830076\teval-rmse:0.972099\n",
      "[211]\ttrain-rmse:0.829968\teval-rmse:0.972093\n",
      "[212]\ttrain-rmse:0.829771\teval-rmse:0.971998\n",
      "[213]\ttrain-rmse:0.829396\teval-rmse:0.971901\n",
      "[214]\ttrain-rmse:0.829307\teval-rmse:0.971866\n",
      "[215]\ttrain-rmse:0.828701\teval-rmse:0.971745\n",
      "[216]\ttrain-rmse:0.828258\teval-rmse:0.971691\n",
      "[217]\ttrain-rmse:0.827838\teval-rmse:0.971629\n",
      "[218]\ttrain-rmse:0.827597\teval-rmse:0.971618\n",
      "[219]\ttrain-rmse:0.827465\teval-rmse:0.971596\n",
      "[220]\ttrain-rmse:0.827281\teval-rmse:0.971608\n",
      "[221]\ttrain-rmse:0.826881\teval-rmse:0.971537\n",
      "[222]\ttrain-rmse:0.82663\teval-rmse:0.971404\n",
      "[223]\ttrain-rmse:0.826355\teval-rmse:0.971393\n",
      "[224]\ttrain-rmse:0.825865\teval-rmse:0.971312\n",
      "[225]\ttrain-rmse:0.825684\teval-rmse:0.971242\n",
      "[226]\ttrain-rmse:0.825257\teval-rmse:0.971152\n",
      "[227]\ttrain-rmse:0.825049\teval-rmse:0.971135\n",
      "[228]\ttrain-rmse:0.824704\teval-rmse:0.971097\n",
      "[229]\ttrain-rmse:0.824411\teval-rmse:0.971074\n",
      "[230]\ttrain-rmse:0.823731\teval-rmse:0.970938\n",
      "[231]\ttrain-rmse:0.823684\teval-rmse:0.970969\n",
      "[232]\ttrain-rmse:0.823485\teval-rmse:0.970952\n",
      "[233]\ttrain-rmse:0.823285\teval-rmse:0.970874\n",
      "[234]\ttrain-rmse:0.822901\teval-rmse:0.97077\n",
      "[235]\ttrain-rmse:0.822807\teval-rmse:0.970772\n",
      "[236]\ttrain-rmse:0.822724\teval-rmse:0.970734\n",
      "[237]\ttrain-rmse:0.822401\teval-rmse:0.970653\n",
      "[238]\ttrain-rmse:0.822031\teval-rmse:0.970539\n",
      "[239]\ttrain-rmse:0.821927\teval-rmse:0.970515\n",
      "[240]\ttrain-rmse:0.821502\teval-rmse:0.970478\n",
      "[241]\ttrain-rmse:0.821252\teval-rmse:0.970425\n",
      "[242]\ttrain-rmse:0.820884\teval-rmse:0.970483\n",
      "[243]\ttrain-rmse:0.820615\teval-rmse:0.970479\n",
      "[244]\ttrain-rmse:0.820144\teval-rmse:0.970327\n",
      "[245]\ttrain-rmse:0.82012\teval-rmse:0.970322\n",
      "[246]\ttrain-rmse:0.819724\teval-rmse:0.970328\n",
      "[247]\ttrain-rmse:0.819574\teval-rmse:0.970317\n",
      "[248]\ttrain-rmse:0.819349\teval-rmse:0.970248\n",
      "[249]\ttrain-rmse:0.819086\teval-rmse:0.970213\n",
      "[250]\ttrain-rmse:0.818332\teval-rmse:0.970073\n",
      "[251]\ttrain-rmse:0.817928\teval-rmse:0.969937\n",
      "[252]\ttrain-rmse:0.817814\teval-rmse:0.969949\n",
      "[253]\ttrain-rmse:0.817625\teval-rmse:0.969918\n",
      "[254]\ttrain-rmse:0.817305\teval-rmse:0.969835\n",
      "[255]\ttrain-rmse:0.817033\teval-rmse:0.969762\n",
      "[256]\ttrain-rmse:0.816553\teval-rmse:0.9696\n",
      "[257]\ttrain-rmse:0.8161\teval-rmse:0.969484\n",
      "[258]\ttrain-rmse:0.815654\teval-rmse:0.969384\n",
      "[259]\ttrain-rmse:0.815246\teval-rmse:0.969308\n",
      "[260]\ttrain-rmse:0.815075\teval-rmse:0.969279\n",
      "[261]\ttrain-rmse:0.814886\teval-rmse:0.969338\n",
      "[262]\ttrain-rmse:0.814558\teval-rmse:0.969333\n",
      "[263]\ttrain-rmse:0.81439\teval-rmse:0.969328\n",
      "[264]\ttrain-rmse:0.814243\teval-rmse:0.969293\n",
      "[265]\ttrain-rmse:0.814089\teval-rmse:0.969262\n",
      "[266]\ttrain-rmse:0.813712\teval-rmse:0.969092\n",
      "[267]\ttrain-rmse:0.813504\teval-rmse:0.969096\n",
      "[268]\ttrain-rmse:0.81321\teval-rmse:0.969049\n",
      "[269]\ttrain-rmse:0.81286\teval-rmse:0.969012\n",
      "[270]\ttrain-rmse:0.812785\teval-rmse:0.969002\n",
      "[271]\ttrain-rmse:0.812617\teval-rmse:0.969001\n",
      "[272]\ttrain-rmse:0.812559\teval-rmse:0.968979\n",
      "[273]\ttrain-rmse:0.812334\teval-rmse:0.968953\n",
      "[274]\ttrain-rmse:0.812103\teval-rmse:0.968845\n",
      "[275]\ttrain-rmse:0.811875\teval-rmse:0.968816\n",
      "[276]\ttrain-rmse:0.811741\teval-rmse:0.968821\n",
      "[277]\ttrain-rmse:0.811611\teval-rmse:0.968843\n",
      "[278]\ttrain-rmse:0.811454\teval-rmse:0.968844\n",
      "[279]\ttrain-rmse:0.811124\teval-rmse:0.968722\n",
      "[280]\ttrain-rmse:0.810988\teval-rmse:0.968685\n",
      "[281]\ttrain-rmse:0.810535\teval-rmse:0.968684\n",
      "[282]\ttrain-rmse:0.810208\teval-rmse:0.968642\n",
      "[283]\ttrain-rmse:0.809892\teval-rmse:0.968548\n",
      "[284]\ttrain-rmse:0.809507\teval-rmse:0.968537\n",
      "[285]\ttrain-rmse:0.809354\teval-rmse:0.968493\n",
      "[286]\ttrain-rmse:0.809223\teval-rmse:0.968561\n",
      "[287]\ttrain-rmse:0.808874\teval-rmse:0.968552\n",
      "[288]\ttrain-rmse:0.808554\teval-rmse:0.968456\n",
      "[289]\ttrain-rmse:0.808424\teval-rmse:0.968466\n",
      "[290]\ttrain-rmse:0.808112\teval-rmse:0.968462\n",
      "[291]\ttrain-rmse:0.807889\teval-rmse:0.968383\n",
      "[292]\ttrain-rmse:0.807282\teval-rmse:0.968213\n",
      "[293]\ttrain-rmse:0.807121\teval-rmse:0.968248\n",
      "[294]\ttrain-rmse:0.806822\teval-rmse:0.968221\n",
      "[295]\ttrain-rmse:0.80657\teval-rmse:0.968194\n",
      "[296]\ttrain-rmse:0.806402\teval-rmse:0.968192\n",
      "[297]\ttrain-rmse:0.806104\teval-rmse:0.968162\n",
      "[298]\ttrain-rmse:0.805879\teval-rmse:0.968078\n",
      "[299]\ttrain-rmse:0.805637\teval-rmse:0.968105\n",
      "[300]\ttrain-rmse:0.805394\teval-rmse:0.96807\n",
      "[301]\ttrain-rmse:0.805235\teval-rmse:0.968066\n",
      "[302]\ttrain-rmse:0.804927\teval-rmse:0.967988\n",
      "[303]\ttrain-rmse:0.804752\teval-rmse:0.967989\n",
      "[304]\ttrain-rmse:0.804674\teval-rmse:0.967972\n",
      "[305]\ttrain-rmse:0.804533\teval-rmse:0.967883\n",
      "[306]\ttrain-rmse:0.804239\teval-rmse:0.96785\n",
      "[307]\ttrain-rmse:0.804087\teval-rmse:0.967818\n",
      "[308]\ttrain-rmse:0.803936\teval-rmse:0.967777\n",
      "[309]\ttrain-rmse:0.803651\teval-rmse:0.967741\n",
      "[310]\ttrain-rmse:0.803571\teval-rmse:0.967697\n",
      "[311]\ttrain-rmse:0.803202\teval-rmse:0.967594\n",
      "[312]\ttrain-rmse:0.80301\teval-rmse:0.967567\n",
      "[313]\ttrain-rmse:0.802951\teval-rmse:0.967546\n",
      "[314]\ttrain-rmse:0.802868\teval-rmse:0.967547\n",
      "[315]\ttrain-rmse:0.802499\teval-rmse:0.967459\n",
      "[316]\ttrain-rmse:0.802315\teval-rmse:0.967442\n",
      "[317]\ttrain-rmse:0.802133\teval-rmse:0.967459\n",
      "[318]\ttrain-rmse:0.801873\teval-rmse:0.967429\n",
      "[319]\ttrain-rmse:0.801503\teval-rmse:0.967343\n",
      "[320]\ttrain-rmse:0.801243\teval-rmse:0.967351\n",
      "[321]\ttrain-rmse:0.80114\teval-rmse:0.967376\n",
      "[322]\ttrain-rmse:0.800864\teval-rmse:0.967397\n",
      "[323]\ttrain-rmse:0.800684\teval-rmse:0.96745\n",
      "[324]\ttrain-rmse:0.800474\teval-rmse:0.967429\n",
      "[325]\ttrain-rmse:0.800309\teval-rmse:0.967431\n",
      "[326]\ttrain-rmse:0.799993\teval-rmse:0.967312\n",
      "[327]\ttrain-rmse:0.799879\teval-rmse:0.967332\n",
      "[328]\ttrain-rmse:0.799709\teval-rmse:0.967331\n",
      "[329]\ttrain-rmse:0.7996\teval-rmse:0.96737\n",
      "[330]\ttrain-rmse:0.799306\teval-rmse:0.967376\n",
      "[331]\ttrain-rmse:0.799019\teval-rmse:0.96731\n",
      "[332]\ttrain-rmse:0.798855\teval-rmse:0.967285\n",
      "[333]\ttrain-rmse:0.798738\teval-rmse:0.967315\n",
      "[334]\ttrain-rmse:0.798368\teval-rmse:0.967254\n",
      "[335]\ttrain-rmse:0.798248\teval-rmse:0.967236\n",
      "[336]\ttrain-rmse:0.798042\teval-rmse:0.967184\n",
      "[337]\ttrain-rmse:0.797796\teval-rmse:0.967164\n",
      "[338]\ttrain-rmse:0.797444\teval-rmse:0.967073\n",
      "[339]\ttrain-rmse:0.79712\teval-rmse:0.967024\n",
      "[340]\ttrain-rmse:0.796749\teval-rmse:0.966837\n",
      "[341]\ttrain-rmse:0.796665\teval-rmse:0.966838\n",
      "[342]\ttrain-rmse:0.796639\teval-rmse:0.966862\n",
      "[343]\ttrain-rmse:0.796605\teval-rmse:0.966861\n",
      "[344]\ttrain-rmse:0.796529\teval-rmse:0.966858\n",
      "[345]\ttrain-rmse:0.796195\teval-rmse:0.966795\n",
      "[346]\ttrain-rmse:0.79603\teval-rmse:0.966807\n",
      "[347]\ttrain-rmse:0.795749\teval-rmse:0.966713\n",
      "[348]\ttrain-rmse:0.795673\teval-rmse:0.966712\n",
      "[349]\ttrain-rmse:0.795591\teval-rmse:0.966726\n",
      "[350]\ttrain-rmse:0.795455\teval-rmse:0.966747\n",
      "[351]\ttrain-rmse:0.795153\teval-rmse:0.966707\n",
      "[352]\ttrain-rmse:0.794815\teval-rmse:0.966714\n",
      "[353]\ttrain-rmse:0.794773\teval-rmse:0.96672\n",
      "[354]\ttrain-rmse:0.79469\teval-rmse:0.966745\n",
      "[355]\ttrain-rmse:0.794517\teval-rmse:0.96672\n",
      "[356]\ttrain-rmse:0.794285\teval-rmse:0.96672\n",
      "[357]\ttrain-rmse:0.793989\teval-rmse:0.966633\n",
      "[358]\ttrain-rmse:0.793792\teval-rmse:0.966588\n",
      "[359]\ttrain-rmse:0.793727\teval-rmse:0.966612\n",
      "[360]\ttrain-rmse:0.793531\teval-rmse:0.966594\n",
      "[361]\ttrain-rmse:0.793199\teval-rmse:0.966525\n",
      "[362]\ttrain-rmse:0.792879\teval-rmse:0.966464\n",
      "[363]\ttrain-rmse:0.79262\teval-rmse:0.96642\n",
      "[364]\ttrain-rmse:0.792358\teval-rmse:0.966356\n",
      "[365]\ttrain-rmse:0.792147\teval-rmse:0.966354\n",
      "[366]\ttrain-rmse:0.791857\teval-rmse:0.966332\n",
      "[367]\ttrain-rmse:0.791629\teval-rmse:0.966317\n"
     ]
    },
    {
     "name": "stdout",
     "output_type": "stream",
     "text": [
      "[368]\ttrain-rmse:0.791531\teval-rmse:0.966339\n",
      "[369]\ttrain-rmse:0.791151\teval-rmse:0.966259\n",
      "[370]\ttrain-rmse:0.790974\teval-rmse:0.966278\n",
      "[371]\ttrain-rmse:0.790675\teval-rmse:0.966242\n",
      "[372]\ttrain-rmse:0.790329\teval-rmse:0.966253\n",
      "[373]\ttrain-rmse:0.790228\teval-rmse:0.966279\n",
      "[374]\ttrain-rmse:0.789998\teval-rmse:0.966208\n",
      "[375]\ttrain-rmse:0.789853\teval-rmse:0.966204\n",
      "[376]\ttrain-rmse:0.789608\teval-rmse:0.966152\n",
      "[377]\ttrain-rmse:0.789251\teval-rmse:0.966008\n",
      "[378]\ttrain-rmse:0.788798\teval-rmse:0.96589\n",
      "[379]\ttrain-rmse:0.788333\teval-rmse:0.965775\n",
      "[380]\ttrain-rmse:0.788158\teval-rmse:0.965769\n",
      "[381]\ttrain-rmse:0.787912\teval-rmse:0.965805\n",
      "[382]\ttrain-rmse:0.787744\teval-rmse:0.965836\n",
      "[383]\ttrain-rmse:0.787602\teval-rmse:0.965773\n",
      "[384]\ttrain-rmse:0.787491\teval-rmse:0.96575\n",
      "[385]\ttrain-rmse:0.787457\teval-rmse:0.96572\n",
      "[386]\ttrain-rmse:0.787175\teval-rmse:0.965638\n",
      "[387]\ttrain-rmse:0.787017\teval-rmse:0.965677\n",
      "[388]\ttrain-rmse:0.786988\teval-rmse:0.965692\n",
      "[389]\ttrain-rmse:0.786707\teval-rmse:0.965715\n",
      "[390]\ttrain-rmse:0.786421\teval-rmse:0.965755\n",
      "[391]\ttrain-rmse:0.786213\teval-rmse:0.965723\n",
      "[392]\ttrain-rmse:0.785948\teval-rmse:0.965668\n",
      "[393]\ttrain-rmse:0.785784\teval-rmse:0.965659\n",
      "[394]\ttrain-rmse:0.785555\teval-rmse:0.965638\n",
      "[395]\ttrain-rmse:0.785417\teval-rmse:0.965661\n",
      "[396]\ttrain-rmse:0.785228\teval-rmse:0.965654\n",
      "Stopping. Best iteration:\n",
      "[386]\ttrain-rmse:0.787175\teval-rmse:0.965638\n",
      "\n"
     ]
    }
   ],
   "source": [
    "# print('start training...')\n",
    "\n",
    "watchlist  = [ (dtrain,'train'),(dvali,'eval')]\n",
    "\n",
    " \n",
    "model = xgb.train(xgb_params, dtrain, 1000, watchlist, early_stopping_rounds=10) "
   ]
  },
  {
   "cell_type": "code",
   "execution_count": 60,
   "metadata": {},
   "outputs": [
    {
     "data": {
      "text/plain": [
       "[('trip_time_in_secs', 17404),\n",
       " ('medallion', 15249),\n",
       " ('trip_distance', 15208),\n",
       " ('pickup_longitude', 9382),\n",
       " ('dropoff_longitude', 8754),\n",
       " ('dropoff_latitude', 8747),\n",
       " ('pickup_latitude', 8493),\n",
       " ('pickup_hour', 5790),\n",
       " ('payment_type', 5430),\n",
       " ('pickup_month', 4471),\n",
       " ('pickup_day', 4319),\n",
       " ('weekday_hour', 4296),\n",
       " ('surcharge', 3617),\n",
       " ('dropoff_hour', 2894),\n",
       " ('trip_length_in_minutes', 2031),\n",
       " ('passenger_count', 1797),\n",
       " ('rate_code', 1747),\n",
       " ('vendor_id', 1641),\n",
       " ('pickup_weekday', 1223),\n",
       " ('store_and_fwd_flag', 640),\n",
       " ('geo_trip', 529),\n",
       " ('dropoff_day', 369),\n",
       " ('geo_dropoff_cluster', 214),\n",
       " ('dropoff_month', 164),\n",
       " ('geo_pickup_cluster', 160),\n",
       " ('dropoff_weekday', 130),\n",
       " ('dropoff_year', 1)]"
      ]
     },
     "execution_count": 60,
     "metadata": {},
     "output_type": "execute_result"
    }
   ],
   "source": [
    "imp = sorted(model.get_fscore().items(), key=lambda x: x[1],reverse=True)\n",
    "imp\n"
   ]
  },
  {
   "cell_type": "code",
   "execution_count": 61,
   "metadata": {},
   "outputs": [
    {
     "data": {
      "text/plain": [
       "<matplotlib.axes._subplots.AxesSubplot at 0x1a560fd90>"
      ]
     },
     "execution_count": 61,
     "metadata": {},
     "output_type": "execute_result"
    },
    {
     "data": {
      "image/png": "[encoded data removed]",
      "text/plain": [
       "<matplotlib.figure.Figure at 0x158411f10>"
      ]
     },
     "metadata": {},
     "output_type": "display_data"
    }
   ],
   "source": [
    "imp_dat = pd.DataFrame({ 'imp': [i[1] for i in imp]},index=[i[0] for i in imp])\n",
    "\n",
    "imp_dat.plot(kind='barh')"
   ]
  },
  {
   "cell_type": "code",
   "execution_count": 62,
   "metadata": {
    "collapsed": true,
    "scrolled": true
   },
   "outputs": [],
   "source": [
    "xgb_pred = model.predict(dtest)\n",
    "stack_feat1 = model.predict(dtrain2)\n",
    "\n"
   ]
  },
  {
   "cell_type": "code",
   "execution_count": 63,
   "metadata": {},
   "outputs": [
    {
     "name": "stdout",
     "output_type": "stream",
     "text": [
      "RMSE:0.946071\n"
     ]
    }
   ],
   "source": [
    "\n",
    "rmse1 = rmse(pred=xgb_pred,label=y_test)\n",
    "print('RMSE:%f'%rmse1)\n"
   ]
  },
  {
   "cell_type": "code",
   "execution_count": 64,
   "metadata": {
    "collapsed": true
   },
   "outputs": [],
   "source": [
    "model_rmse[0] = rmse1"
   ]
  },
  {
   "cell_type": "code",
   "execution_count": 65,
   "metadata": {
    "collapsed": true
   },
   "outputs": [],
   "source": [
    "res = pd.DataFrame({'pred': xgb_pred,'label': y_test})"
   ]
  },
  {
   "cell_type": "code",
   "execution_count": 66,
   "metadata": {},
   "outputs": [
    {
     "data": {
      "text/plain": [
       "[<matplotlib.lines.Line2D at 0x1418eb790>]"
      ]
     },
     "execution_count": 66,
     "metadata": {},
     "output_type": "execute_result"
    },
    {
     "data": {
      "image/png": "[encoded data removed]",
      "text/plain": [
       "<matplotlib.figure.Figure at 0x1418dbf10>"
      ]
     },
     "metadata": {},
     "output_type": "display_data"
    }
   ],
   "source": [
    "ax = res.plot(kind='scatter',x='label',y='pred')\n",
    "plt.plot( [0,40],[0,40],color='red' )\n"
   ]
  },
  {
   "cell_type": "markdown",
   "metadata": {},
   "source": [
    "### Level 1 Meta Learner 2: Xgboost - gblinear\n",
    "\n"
   ]
  },
  {
   "cell_type": "code",
   "execution_count": 68,
   "metadata": {
    "collapsed": true
   },
   "outputs": [],
   "source": [
    "import lightgbm as lgb\n",
    "\n",
    "l_train = lgb.Dataset(train, label=y_train)\n",
    "l_valid = lgb.Dataset(valid, label=y_valid)\n",
    "l_test= lgb.Dataset(test, label=None)\n",
    "watchlist = [l_valid]"
   ]
  },
  {
   "cell_type": "code",
   "execution_count": 71,
   "metadata": {},
   "outputs": [
    {
     "name": "stdout",
     "output_type": "stream",
     "text": [
      "\n",
      "Fitting LightGBM model ...\n",
      "[1]\tvalid_0's l2: 25.451\n",
      "Train until valid scores didn't improve in 10 rounds.\n",
      "[2]\tvalid_0's l2: 16.7986\n",
      "[3]\tvalid_0's l2: 11.5232\n",
      "[4]\tvalid_0's l2: 8.37601\n",
      "[5]\tvalid_0's l2: 5.82855\n",
      "[6]\tvalid_0's l2: 4.38956\n",
      "[7]\tvalid_0's l2: 3.44279\n",
      "[8]\tvalid_0's l2: 2.8561\n",
      "[9]\tvalid_0's l2: 2.34358\n",
      "[10]\tvalid_0's l2: 2.17199\n",
      "[11]\tvalid_0's l2: 1.93212\n",
      "[12]\tvalid_0's l2: 1.69134\n",
      "[13]\tvalid_0's l2: 1.52998\n",
      "[14]\tvalid_0's l2: 1.46527\n",
      "[15]\tvalid_0's l2: 1.41454\n",
      "[16]\tvalid_0's l2: 1.351\n",
      "[17]\tvalid_0's l2: 1.32358\n",
      "[18]\tvalid_0's l2: 1.31041\n",
      "[19]\tvalid_0's l2: 1.27978\n",
      "[20]\tvalid_0's l2: 1.24482\n",
      "[21]\tvalid_0's l2: 1.22187\n",
      "[22]\tvalid_0's l2: 1.21507\n",
      "[23]\tvalid_0's l2: 1.21046\n",
      "[24]\tvalid_0's l2: 1.19333\n",
      "[25]\tvalid_0's l2: 1.18426\n",
      "[26]\tvalid_0's l2: 1.17459\n",
      "[27]\tvalid_0's l2: 1.16244\n",
      "[28]\tvalid_0's l2: 1.15767\n",
      "[29]\tvalid_0's l2: 1.15487\n",
      "[30]\tvalid_0's l2: 1.1529\n",
      "[31]\tvalid_0's l2: 1.1509\n",
      "[32]\tvalid_0's l2: 1.14107\n",
      "[33]\tvalid_0's l2: 1.13822\n",
      "[34]\tvalid_0's l2: 1.13048\n",
      "[35]\tvalid_0's l2: 1.12841\n",
      "[36]\tvalid_0's l2: 1.12719\n",
      "[37]\tvalid_0's l2: 1.11888\n",
      "[38]\tvalid_0's l2: 1.11784\n",
      "[39]\tvalid_0's l2: 1.11542\n",
      "[40]\tvalid_0's l2: 1.10999\n",
      "[41]\tvalid_0's l2: 1.10538\n",
      "[42]\tvalid_0's l2: 1.10365\n",
      "[43]\tvalid_0's l2: 1.09833\n",
      "[44]\tvalid_0's l2: 1.09423\n",
      "[45]\tvalid_0's l2: 1.08999\n",
      "[46]\tvalid_0's l2: 1.08931\n",
      "[47]\tvalid_0's l2: 1.08552\n",
      "[48]\tvalid_0's l2: 1.08486\n",
      "[49]\tvalid_0's l2: 1.08354\n",
      "[50]\tvalid_0's l2: 1.08124\n",
      "[51]\tvalid_0's l2: 1.07925\n",
      "[52]\tvalid_0's l2: 1.07719\n",
      "[53]\tvalid_0's l2: 1.07682\n",
      "[54]\tvalid_0's l2: 1.07521\n",
      "[55]\tvalid_0's l2: 1.0723\n",
      "[56]\tvalid_0's l2: 1.07178\n",
      "[57]\tvalid_0's l2: 1.06989\n",
      "[58]\tvalid_0's l2: 1.06903\n",
      "[59]\tvalid_0's l2: 1.06822\n",
      "[60]\tvalid_0's l2: 1.06707\n",
      "[61]\tvalid_0's l2: 1.06624\n",
      "[62]\tvalid_0's l2: 1.06422\n",
      "[63]\tvalid_0's l2: 1.06266\n",
      "[64]\tvalid_0's l2: 1.06178\n",
      "[65]\tvalid_0's l2: 1.06094\n",
      "[66]\tvalid_0's l2: 1.06033\n",
      "[67]\tvalid_0's l2: 1.05979\n",
      "[68]\tvalid_0's l2: 1.05754\n",
      "[69]\tvalid_0's l2: 1.05651\n",
      "[70]\tvalid_0's l2: 1.0553\n",
      "[71]\tvalid_0's l2: 1.05339\n",
      "[72]\tvalid_0's l2: 1.05224\n",
      "[73]\tvalid_0's l2: 1.05116\n",
      "[74]\tvalid_0's l2: 1.04925\n",
      "[75]\tvalid_0's l2: 1.04814\n",
      "[76]\tvalid_0's l2: 1.04679\n",
      "[77]\tvalid_0's l2: 1.04639\n",
      "[78]\tvalid_0's l2: 1.04571\n",
      "[79]\tvalid_0's l2: 1.04418\n",
      "[80]\tvalid_0's l2: 1.04384\n",
      "[81]\tvalid_0's l2: 1.04297\n",
      "[82]\tvalid_0's l2: 1.04063\n",
      "[83]\tvalid_0's l2: 1.0398\n",
      "[84]\tvalid_0's l2: 1.03894\n",
      "[85]\tvalid_0's l2: 1.0385\n",
      "[86]\tvalid_0's l2: 1.03798\n",
      "[87]\tvalid_0's l2: 1.03768\n",
      "[88]\tvalid_0's l2: 1.03749\n",
      "[89]\tvalid_0's l2: 1.03708\n",
      "[90]\tvalid_0's l2: 1.03679\n",
      "[91]\tvalid_0's l2: 1.03646\n",
      "[92]\tvalid_0's l2: 1.03575\n",
      "[93]\tvalid_0's l2: 1.03529\n",
      "[94]\tvalid_0's l2: 1.03449\n",
      "[95]\tvalid_0's l2: 1.03429\n",
      "[96]\tvalid_0's l2: 1.03374\n",
      "[97]\tvalid_0's l2: 1.03208\n",
      "[98]\tvalid_0's l2: 1.03141\n",
      "[99]\tvalid_0's l2: 1.03137\n",
      "[100]\tvalid_0's l2: 1.03093\n",
      "[101]\tvalid_0's l2: 1.03061\n",
      "[102]\tvalid_0's l2: 1.0298\n",
      "[103]\tvalid_0's l2: 1.02955\n",
      "[104]\tvalid_0's l2: 1.02936\n",
      "[105]\tvalid_0's l2: 1.02872\n",
      "[106]\tvalid_0's l2: 1.02792\n",
      "[107]\tvalid_0's l2: 1.02788\n",
      "[108]\tvalid_0's l2: 1.0278\n",
      "[109]\tvalid_0's l2: 1.02767\n",
      "[110]\tvalid_0's l2: 1.02703\n",
      "[111]\tvalid_0's l2: 1.02682\n",
      "[112]\tvalid_0's l2: 1.02627\n",
      "[113]\tvalid_0's l2: 1.02626\n",
      "[114]\tvalid_0's l2: 1.02579\n",
      "[115]\tvalid_0's l2: 1.02513\n",
      "[116]\tvalid_0's l2: 1.02476\n",
      "[117]\tvalid_0's l2: 1.02448\n",
      "[118]\tvalid_0's l2: 1.02437\n",
      "[119]\tvalid_0's l2: 1.02449\n",
      "[120]\tvalid_0's l2: 1.02386\n",
      "[121]\tvalid_0's l2: 1.02312\n",
      "[122]\tvalid_0's l2: 1.02282\n",
      "[123]\tvalid_0's l2: 1.02251\n",
      "[124]\tvalid_0's l2: 1.02238\n",
      "[125]\tvalid_0's l2: 1.02221\n",
      "[126]\tvalid_0's l2: 1.02213\n",
      "[127]\tvalid_0's l2: 1.0214\n",
      "[128]\tvalid_0's l2: 1.02135\n",
      "[129]\tvalid_0's l2: 1.02121\n",
      "[130]\tvalid_0's l2: 1.02095\n",
      "[131]\tvalid_0's l2: 1.02004\n",
      "[132]\tvalid_0's l2: 1.02004\n",
      "[133]\tvalid_0's l2: 1.0196\n",
      "[134]\tvalid_0's l2: 1.01933\n",
      "[135]\tvalid_0's l2: 1.01875\n",
      "[136]\tvalid_0's l2: 1.01836\n",
      "[137]\tvalid_0's l2: 1.01772\n",
      "[138]\tvalid_0's l2: 1.0176\n",
      "[139]\tvalid_0's l2: 1.01754\n",
      "[140]\tvalid_0's l2: 1.01748\n",
      "[141]\tvalid_0's l2: 1.01706\n",
      "[142]\tvalid_0's l2: 1.01657\n",
      "[143]\tvalid_0's l2: 1.01655\n",
      "[144]\tvalid_0's l2: 1.01639\n",
      "[145]\tvalid_0's l2: 1.01606\n",
      "[146]\tvalid_0's l2: 1.01587\n",
      "[147]\tvalid_0's l2: 1.01592\n",
      "[148]\tvalid_0's l2: 1.01553\n",
      "[149]\tvalid_0's l2: 1.01505\n",
      "[150]\tvalid_0's l2: 1.01461\n",
      "[151]\tvalid_0's l2: 1.01442\n",
      "[152]\tvalid_0's l2: 1.01438\n",
      "[153]\tvalid_0's l2: 1.0141\n",
      "[154]\tvalid_0's l2: 1.01377\n",
      "[155]\tvalid_0's l2: 1.01366\n",
      "[156]\tvalid_0's l2: 1.0136\n",
      "[157]\tvalid_0's l2: 1.01309\n",
      "[158]\tvalid_0's l2: 1.0129\n",
      "[159]\tvalid_0's l2: 1.01274\n",
      "[160]\tvalid_0's l2: 1.01265\n",
      "[161]\tvalid_0's l2: 1.01208\n",
      "[162]\tvalid_0's l2: 1.01213\n",
      "[163]\tvalid_0's l2: 1.01195\n",
      "[164]\tvalid_0's l2: 1.01099\n",
      "[165]\tvalid_0's l2: 1.01091\n",
      "[166]\tvalid_0's l2: 1.01025\n",
      "[167]\tvalid_0's l2: 1.0103\n",
      "[168]\tvalid_0's l2: 1.01022\n",
      "[169]\tvalid_0's l2: 1.0102\n",
      "[170]\tvalid_0's l2: 1.01012\n",
      "[171]\tvalid_0's l2: 1.01019\n",
      "[172]\tvalid_0's l2: 1.01008\n",
      "[173]\tvalid_0's l2: 1.00989\n",
      "[174]\tvalid_0's l2: 1.00998\n",
      "[175]\tvalid_0's l2: 1.00972\n",
      "[176]\tvalid_0's l2: 1.00969\n",
      "[177]\tvalid_0's l2: 1.00964\n",
      "[178]\tvalid_0's l2: 1.00884\n",
      "[179]\tvalid_0's l2: 1.00884\n",
      "[180]\tvalid_0's l2: 1.00857\n",
      "[181]\tvalid_0's l2: 1.00819\n",
      "[182]\tvalid_0's l2: 1.00812\n",
      "[183]\tvalid_0's l2: 1.00787\n",
      "[184]\tvalid_0's l2: 1.00763\n",
      "[185]\tvalid_0's l2: 1.00741\n",
      "[186]\tvalid_0's l2: 1.00718\n",
      "[187]\tvalid_0's l2: 1.00718\n",
      "[188]\tvalid_0's l2: 1.00674\n",
      "[189]\tvalid_0's l2: 1.00637\n",
      "[190]\tvalid_0's l2: 1.00657\n",
      "[191]\tvalid_0's l2: 1.00616\n",
      "[192]\tvalid_0's l2: 1.0061\n",
      "[193]\tvalid_0's l2: 1.00592\n",
      "[194]\tvalid_0's l2: 1.00587\n",
      "[195]\tvalid_0's l2: 1.0058\n",
      "[196]\tvalid_0's l2: 1.00571\n",
      "[197]\tvalid_0's l2: 1.0056\n",
      "[198]\tvalid_0's l2: 1.00555\n",
      "[199]\tvalid_0's l2: 1.00497\n",
      "[200]\tvalid_0's l2: 1.00447\n",
      "[201]\tvalid_0's l2: 1.00443\n",
      "[202]\tvalid_0's l2: 1.00419\n",
      "[203]\tvalid_0's l2: 1.00404\n",
      "[204]\tvalid_0's l2: 1.00388\n",
      "[205]\tvalid_0's l2: 1.00351\n",
      "[206]\tvalid_0's l2: 1.00343\n",
      "[207]\tvalid_0's l2: 1.00336\n",
      "[208]\tvalid_0's l2: 1.00336\n",
      "[209]\tvalid_0's l2: 1.00318\n",
      "[210]\tvalid_0's l2: 1.00321\n",
      "[211]\tvalid_0's l2: 1.00308\n",
      "[212]\tvalid_0's l2: 1.00298\n",
      "[213]\tvalid_0's l2: 1.00289\n",
      "[214]\tvalid_0's l2: 1.00262\n",
      "[215]\tvalid_0's l2: 1.00256\n",
      "[216]\tvalid_0's l2: 1.00251\n",
      "[217]\tvalid_0's l2: 1.0025\n",
      "[218]\tvalid_0's l2: 1.00253\n",
      "[219]\tvalid_0's l2: 1.00244\n",
      "[220]\tvalid_0's l2: 1.00183\n",
      "[221]\tvalid_0's l2: 1.00166\n",
      "[222]\tvalid_0's l2: 1.00149\n",
      "[223]\tvalid_0's l2: 1.00128\n",
      "[224]\tvalid_0's l2: 1.00117\n",
      "[225]\tvalid_0's l2: 1.0011\n",
      "[226]\tvalid_0's l2: 1.00105\n",
      "[227]\tvalid_0's l2: 1.00062\n",
      "[228]\tvalid_0's l2: 1.00002\n",
      "[229]\tvalid_0's l2: 1.00015\n",
      "[230]\tvalid_0's l2: 0.999904\n",
      "[231]\tvalid_0's l2: 0.999905\n",
      "[232]\tvalid_0's l2: 0.999501\n",
      "[233]\tvalid_0's l2: 0.999448\n",
      "[234]\tvalid_0's l2: 0.999281\n",
      "[235]\tvalid_0's l2: 0.999327\n",
      "[236]\tvalid_0's l2: 0.999186\n",
      "[237]\tvalid_0's l2: 0.99921\n",
      "[238]\tvalid_0's l2: 0.999036\n",
      "[239]\tvalid_0's l2: 0.999123\n",
      "[240]\tvalid_0's l2: 0.998985\n",
      "[241]\tvalid_0's l2: 0.999034\n",
      "[242]\tvalid_0's l2: 0.998991\n",
      "[243]\tvalid_0's l2: 0.998788\n",
      "[244]\tvalid_0's l2: 0.9985\n",
      "[245]\tvalid_0's l2: 0.998327\n",
      "[246]\tvalid_0's l2: 0.998319\n",
      "[247]\tvalid_0's l2: 0.998334\n",
      "[248]\tvalid_0's l2: 0.998202\n",
      "[249]\tvalid_0's l2: 0.998313\n",
      "[250]\tvalid_0's l2: 0.998213\n",
      "[251]\tvalid_0's l2: 0.998117\n",
      "[252]\tvalid_0's l2: 0.99806\n",
      "[253]\tvalid_0's l2: 0.997936\n",
      "[254]\tvalid_0's l2: 0.997985\n",
      "[255]\tvalid_0's l2: 0.9979\n",
      "[256]\tvalid_0's l2: 0.997956\n",
      "[257]\tvalid_0's l2: 0.997825\n",
      "[258]\tvalid_0's l2: 0.997764\n",
      "[259]\tvalid_0's l2: 0.997628\n",
      "[260]\tvalid_0's l2: 0.997663\n",
      "[261]\tvalid_0's l2: 0.997389\n",
      "[262]\tvalid_0's l2: 0.997345\n",
      "[263]\tvalid_0's l2: 0.997371\n",
      "[264]\tvalid_0's l2: 0.997135\n",
      "[265]\tvalid_0's l2: 0.997192\n",
      "[266]\tvalid_0's l2: 0.997256\n",
      "[267]\tvalid_0's l2: 0.997042\n",
      "[268]\tvalid_0's l2: 0.996948\n",
      "[269]\tvalid_0's l2: 0.996849\n",
      "[270]\tvalid_0's l2: 0.996713\n",
      "[271]\tvalid_0's l2: 0.996557\n",
      "[272]\tvalid_0's l2: 0.996635\n",
      "[273]\tvalid_0's l2: 0.996481\n",
      "[274]\tvalid_0's l2: 0.996268\n",
      "[275]\tvalid_0's l2: 0.996293\n",
      "[276]\tvalid_0's l2: 0.996193\n",
      "[277]\tvalid_0's l2: 0.996282\n",
      "[278]\tvalid_0's l2: 0.996293\n",
      "[279]\tvalid_0's l2: 0.996327\n",
      "[280]\tvalid_0's l2: 0.996075\n",
      "[281]\tvalid_0's l2: 0.996057\n",
      "[282]\tvalid_0's l2: 0.99605\n",
      "[283]\tvalid_0's l2: 0.995568\n",
      "[284]\tvalid_0's l2: 0.995524\n",
      "[285]\tvalid_0's l2: 0.995449\n",
      "[286]\tvalid_0's l2: 0.995473\n",
      "[287]\tvalid_0's l2: 0.995329\n",
      "[288]\tvalid_0's l2: 0.995114\n",
      "[289]\tvalid_0's l2: 0.99496\n",
      "[290]\tvalid_0's l2: 0.994962\n",
      "[291]\tvalid_0's l2: 0.994951\n",
      "[292]\tvalid_0's l2: 0.99499\n",
      "[293]\tvalid_0's l2: 0.995001\n"
     ]
    },
    {
     "name": "stdout",
     "output_type": "stream",
     "text": [
      "[294]\tvalid_0's l2: 0.994837\n",
      "[295]\tvalid_0's l2: 0.994548\n",
      "[296]\tvalid_0's l2: 0.994429\n",
      "[297]\tvalid_0's l2: 0.994334\n",
      "[298]\tvalid_0's l2: 0.994382\n",
      "[299]\tvalid_0's l2: 0.994326\n",
      "[300]\tvalid_0's l2: 0.994108\n",
      "[301]\tvalid_0's l2: 0.99419\n",
      "[302]\tvalid_0's l2: 0.994394\n",
      "[303]\tvalid_0's l2: 0.994432\n",
      "[304]\tvalid_0's l2: 0.994447\n",
      "[305]\tvalid_0's l2: 0.994213\n",
      "[306]\tvalid_0's l2: 0.994234\n",
      "[307]\tvalid_0's l2: 0.994247\n",
      "[308]\tvalid_0's l2: 0.9942\n",
      "[309]\tvalid_0's l2: 0.994212\n",
      "[310]\tvalid_0's l2: 0.994218\n",
      "Early stopping, best iteration is:\n",
      "[300]\tvalid_0's l2: 0.994108\n"
     ]
    }
   ],
   "source": [
    "\n",
    "\n",
    "\n",
    "##### RUN LIGHTGBM\n",
    "\n",
    "params = {}\n",
    "params['max_bin'] = 10\n",
    "params['learning_rate'] = 0.2\n",
    "params['boosting_type'] = 'gbdt'\n",
    "params['objective'] = 'regression'\n",
    "params['metric'] = 'l2'          # or 'mae'\n",
    "params['sub_feature'] = 0.5      # feature_fraction -- OK, back to .5, but maybe later increase this\n",
    "params['bagging_fraction'] = 0.85 # sub_row\n",
    "params['bagging_freq'] = 40\n",
    "params['num_leaves'] = 512        # num_leaf\n",
    "params['min_data'] = 500         # min_data_in_leaf\n",
    "params['min_hessian'] = 0.05     # min_sum_hessian_in_leaf\n",
    "params['verbose'] = 0\n",
    "\n",
    "print(\"\\nFitting LightGBM model ...\")\n",
    "clf = lgb.train(params, l_train, 1000, watchlist,early_stopping_rounds=10)\n"
   ]
  },
  {
   "cell_type": "code",
   "execution_count": 72,
   "metadata": {},
   "outputs": [
    {
     "name": "stdout",
     "output_type": "stream",
     "text": [
      "predicting...\n",
      ".\n"
     ]
    }
   ],
   "source": [
    "print('predicting...')\n",
    "lgb_res = clf.predict(test.values.astype(np.float32, copy=False))\n",
    "print('.')\n",
    "stack_feat2 = clf.predict(train.values.astype(np.float32, copy=False))"
   ]
  },
  {
   "cell_type": "code",
   "execution_count": 75,
   "metadata": {},
   "outputs": [
    {
     "name": "stdout",
     "output_type": "stream",
     "text": [
      "0.979102668028\n"
     ]
    }
   ],
   "source": [
    "rmse2 = rmse(lgb_res,y_test)\n",
    "model_rmse[1] = rmse2\n",
    "print(rmse2)"
   ]
  },
  {
   "cell_type": "code",
   "execution_count": 74,
   "metadata": {},
   "outputs": [
    {
     "data": {
      "text/plain": [
       "[<matplotlib.lines.Line2D at 0x175eb8d90>]"
      ]
     },
     "execution_count": 74,
     "metadata": {},
     "output_type": "execute_result"
    },
    {
     "data": {
      "image/png": "[encoded data removed]",
      "text/plain": [
       "<matplotlib.figure.Figure at 0x188de9610>"
      ]
     },
     "metadata": {},
     "output_type": "display_data"
    }
   ],
   "source": [
    "res2 = pd.DataFrame({'pred': lgb_res,'label': y_test})\n",
    "ax = res2.plot(kind='scatter',x='label',y='pred')\n",
    "plt.plot( [0,40],[0,40],color='red' )\n"
   ]
  },
  {
   "cell_type": "markdown",
   "metadata": {},
   "source": [
    "## Stacking using Multi-layer Perceptron NN\n",
    "\n",
    "- using tensorflow"
   ]
  },
  {
   "cell_type": "code",
   "execution_count": 76,
   "metadata": {
    "collapsed": true
   },
   "outputs": [],
   "source": [
    "l2_train = pd.DataFrame({\n",
    "    'ft1':stack_feat1,\n",
    "    'ft2':stack_feat2\n",
    "     })\n",
    "\n",
    "\n",
    "l2_test = pd.DataFrame({\n",
    "    'ft1':xgb_pred,\n",
    "    'ft2':lgb_res\n",
    "    \n",
    "})\n",
    "\n",
    "tf_train = l2_train.values\n",
    "tf_test = l2_test.values\n",
    "y_train = y_train.astype('float32')\n",
    "\n",
    "y_test = y_test.astype('float32')\n"
   ]
  },
  {
   "cell_type": "code",
   "execution_count": 77,
   "metadata": {
    "collapsed": true
   },
   "outputs": [],
   "source": [
    "import tensorflow as tf\n",
    "# Configuration:\n",
    "N_FEATURE = 2\n",
    "LEARNING_RATE = 0.0005\n",
    "\n",
    "n_hidden_1 = 6 # 1st layer number of features\n",
    "n_hidden_2 = 12 # 2nd layer number of features\n",
    "n_hidden_3 = 24 # 3nd layer number of features\n",
    "\n",
    "\n",
    "\n",
    "\n",
    "#Building the graph:\n",
    "# Input\n",
    "x = tf.placeholder(\"float\",shape=[None,N_FEATURE],name='x_input')\n",
    "y_ = tf.placeholder(\"float\",shape=[None,1],name='y_input')\n",
    "\n",
    "\n",
    "#Layer 1:\n",
    "w1 = tf.Variable(tf.truncated_normal([N_FEATURE,n_hidden_1],stddev=0.01))  #weight\n",
    "b1= tf.Variable(tf.constant(0.01,shape=[n_hidden_1])) #bias\n",
    "matmul_1 = tf.add(tf.matmul(x, w1),b1,name='add1')\n",
    "relu_1 = tf.nn.relu(matmul_1) # non-linear transform\n",
    "\n",
    "#Layer 2:\n",
    "w2 = tf.Variable(tf.truncated_normal([n_hidden_1,n_hidden_2],stddev=0.01))  #weight\n",
    "b2= tf.Variable(tf.constant(0.01,shape=[n_hidden_2])) #bias\n",
    "matmul_2 = tf.add(tf.matmul(relu_1, w2), b2)\n",
    "relu_2 = tf.nn.relu(matmul_2)\n",
    "\n",
    "#Layer 3:\n",
    "w3 = tf.Variable(tf.truncated_normal([n_hidden_2,n_hidden_3],stddev=0.01))  #weight\n",
    "b3= tf.Variable(tf.constant(0.01,shape=[n_hidden_3])) #bias\n",
    "matmul_3 = tf.add(tf.matmul(relu_2, w3), b3)\n",
    "relu_3 = tf.nn.relu(matmul_3)\n",
    "\n",
    "\n",
    "\n",
    "\n",
    "# Output Layer:\n",
    "w_out = tf.Variable(tf.truncated_normal([n_hidden_3, 1],stddev=0.01))  #weight\n",
    "b_out= tf.Variable(tf.constant(0.01,shape=[1])) #bias\n",
    "y = tf.matmul(relu_3, w_out)+b_out\n",
    "\n",
    "\n",
    "\n",
    "#Cost:\n",
    "cost = tf.sqrt(tf.reduce_mean(tf.squared_difference(y, y_))) #mae defined here\n",
    "#Optimizer:\n",
    "optimizer = tf.train.AdamOptimizer(learning_rate=LEARNING_RATE).minimize(cost)\n",
    "\n"
   ]
  },
  {
   "cell_type": "code",
   "execution_count": 78,
   "metadata": {},
   "outputs": [
    {
     "name": "stdout",
     "output_type": "stream",
     "text": [
      "('Epoch:', '0001', 'cost=', '1.7449')\n",
      "[*]----------------------------\n",
      "('Epoch:', '0002', 'cost=', '0.7806')\n",
      "[*]----------------------------\n",
      "('Epoch:', '0003', 'cost=', '0.7791')\n",
      "[*]----------------------------\n",
      "('Epoch:', '0004', 'cost=', '0.7788')\n",
      "[*]----------------------------\n",
      "('Epoch:', '0005', 'cost=', '0.7788')\n",
      "[*]----------------------------\n",
      "('Epoch:', '0006', 'cost=', '0.7788')\n",
      "[*]----------------------------\n",
      "('Epoch:', '0007', 'cost=', '0.7787')\n",
      "[*]----------------------------\n",
      "('Epoch:', '0008', 'cost=', '0.7787')\n",
      "[*]----------------------------\n",
      "('Epoch:', '0009', 'cost=', '0.7787')\n",
      "[*]----------------------------\n",
      "('Epoch:', '0010', 'cost=', '0.7787')\n",
      "[*]----------------------------\n",
      "('Epoch:', '0011', 'cost=', '0.7787')\n",
      "[*]----------------------------\n",
      "('Epoch:', '0012', 'cost=', '0.7787')\n",
      "[*]----------------------------\n",
      "('Epoch:', '0013', 'cost=', '0.7787')\n",
      "[*]----------------------------\n",
      "('Epoch:', '0014', 'cost=', '0.7787')\n",
      "[*]----------------------------\n",
      "('Epoch:', '0015', 'cost=', '0.7787')\n",
      "[*]----------------------------\n",
      "Optimization Finished!\n"
     ]
    }
   ],
   "source": [
    "batch_size  = 1000\n",
    "training_epochs = 15\n",
    "total_len = len(tf_train)\n",
    "\n",
    "\n",
    "# Launch the graph\n",
    "with tf.Session() as sess:\n",
    "    sess.run(tf.global_variables_initializer())\n",
    "\n",
    "    # Training cycle\n",
    "    for epoch in range(training_epochs):\n",
    "        avg_cost = 0.0\n",
    "        total_batch = int(total_len/batch_size)\n",
    "        # Loop over all batches\n",
    "        for i in range(total_batch-1):\n",
    "            batch_x = tf_train[i*batch_size:(i+1)*batch_size]\n",
    "            batch_y = y_train[i*batch_size:(i+1)*batch_size].values.reshape([-1,1])\n",
    "            # Run optimization op (backprop) and cost op (to get loss value)\n",
    "            _, c, p = sess.run([optimizer, cost, y], feed_dict={x: batch_x,\n",
    "                                                          y_: batch_y})\n",
    "            # Compute average loss\n",
    "            avg_cost += c / total_batch\n",
    "\n",
    "\n",
    "        # Display logs per epoch step\n",
    "        if epoch % 1 == 0:\n",
    "            print (\"Epoch:\", '%04d' % (epoch+1), \"cost=\", \\\n",
    "                \"{:.4f}\".format(avg_cost))\n",
    "            print (\"[*]----------------------------\")\n",
    "\n",
    "\n",
    "    print (\"Optimization Finished!\")\n",
    "    # Predict test data:\n",
    "    tf_pred = y.eval(feed_dict={x:tf_test })\n",
    "#     tf_feat = y.eval(feed_dict={x:tf_train })"
   ]
  },
  {
   "cell_type": "code",
   "execution_count": 79,
   "metadata": {},
   "outputs": [
    {
     "name": "stdout",
     "output_type": "stream",
     "text": [
      "0.941477\n"
     ]
    }
   ],
   "source": [
    "# test mae here:\n",
    "rmse3 = rmse(tf_pred.reshape((-1,1)),y_test.values.reshape((-1,1)))\n",
    "#need to reshape f_pred probably\n",
    "print(rmse3)"
   ]
  },
  {
   "cell_type": "code",
   "execution_count": 80,
   "metadata": {
    "collapsed": true
   },
   "outputs": [],
   "source": [
    "model_rmse[2] = rmse3"
   ]
  },
  {
   "cell_type": "code",
   "execution_count": 81,
   "metadata": {},
   "outputs": [
    {
     "data": {
      "text/plain": [
       "[<matplotlib.lines.Line2D at 0x1880eb910>]"
      ]
     },
     "execution_count": 81,
     "metadata": {},
     "output_type": "execute_result"
    },
    {
     "data": {
      "image/png": "[encoded data removed]",
      "text/plain": [
       "<matplotlib.figure.Figure at 0x1880c1b10>"
      ]
     },
     "metadata": {},
     "output_type": "display_data"
    }
   ],
   "source": [
    "\n",
    "res4 = pd.DataFrame({'pred': tf_pred.reshape((-1,)),'label': y_test.values.reshape((-1,))})\n",
    "ax = res4.plot(kind='scatter',x='label',y='pred')\n",
    "plt.plot( [0,40],[0,40],color='red' )\n",
    "\n",
    "\n"
   ]
  },
  {
   "cell_type": "markdown",
   "metadata": {},
   "source": [
    "## Evaluation\n",
    "\n",
    "Looks like ensembling by NN can further decrease the error (although not too much)"
   ]
  },
  {
   "cell_type": "code",
   "execution_count": 82,
   "metadata": {
    "collapsed": true
   },
   "outputs": [],
   "source": [
    "result = pd.DataFrame({'rmse':model_rmse},index=model_list)"
   ]
  },
  {
   "cell_type": "code",
   "execution_count": 83,
   "metadata": {},
   "outputs": [
    {
     "data": {
      "text/html": [
       "<div>\n",
       "<style>\n",
       "    .dataframe thead tr:only-child th {\n",
       "        text-align: right;\n",
       "    }\n",
       "\n",
       "    .dataframe thead th {\n",
       "        text-align: left;\n",
       "    }\n",
       "\n",
       "    .dataframe tbody tr th {\n",
       "        vertical-align: top;\n",
       "    }\n",
       "</style>\n",
       "<table border=\"1\" class=\"dataframe\">\n",
       "  <thead>\n",
       "    <tr style=\"text-align: right;\">\n",
       "      <th></th>\n",
       "      <th>rmse</th>\n",
       "    </tr>\n",
       "  </thead>\n",
       "  <tbody>\n",
       "    <tr>\n",
       "      <th>xgb_tree</th>\n",
       "      <td>0.946071</td>\n",
       "    </tr>\n",
       "    <tr>\n",
       "      <th>lightgbm</th>\n",
       "      <td>0.979103</td>\n",
       "    </tr>\n",
       "    <tr>\n",
       "      <th>ensemble_NN</th>\n",
       "      <td>0.941477</td>\n",
       "    </tr>\n",
       "  </tbody>\n",
       "</table>\n",
       "</div>"
      ],
      "text/plain": [
       "                 rmse\n",
       "xgb_tree     0.946071\n",
       "lightgbm     0.979103\n",
       "ensemble_NN  0.941477"
      ]
     },
     "execution_count": 83,
     "metadata": {},
     "output_type": "execute_result"
    }
   ],
   "source": [
    "result"
   ]
  },
  {
   "cell_type": "code",
   "execution_count": 86,
   "metadata": {},
   "outputs": [
    {
     "data": {
      "text/plain": [
       "<matplotlib.axes._subplots.AxesSubplot at 0x1b8103890>"
      ]
     },
     "execution_count": 86,
     "metadata": {},
     "output_type": "execute_result"
    },
    {
     "data": {
      "image/png": "[encoded data removed]",
      "text/plain": [
       "<matplotlib.figure.Figure at 0x1b8111250>"
      ]
     },
     "metadata": {},
     "output_type": "display_data"
    }
   ],
   "source": [
    "result.plot(kind='line')"
   ]
  },
  {
   "cell_type": "markdown",
   "metadata": {},
   "source": [
    "# Summary:"
   ]
  },
  {
   "cell_type": "markdown",
   "metadata": {},
   "source": [
    "In this project, we explored the NYC taxi and discovered several interesting insights. More importantly, we used cutting-edge machine learning algorithms such as xgboost, lightgbm and neural network to predict the profit of each taxi trip. Then weapplied state of the art ensemble techniques such as stacking to further improve the accuracy.\n",
    "\n",
    "Assume when some day each taxi driver has a AI assistant helps him/her estimate the profit of each potential trip, the driver as well as the taxi company can easily optimize their strategy to incease operation profit."
   ]
  }
 ],
 "metadata": {
  "kernelspec": {
   "display_name": "Python 2",
   "language": "python",
   "name": "python2"
  },
  "language_info": {
   "codemirror_mode": {
    "name": "ipython",
    "version": 2
   },
   "file_extension": ".py",
   "mimetype": "text/x-python",
   "name": "python",
   "nbconvert_exporter": "python",
   "pygments_lexer": "ipython2",
   "version": "2.7.13"
  }
 },
 "nbformat": 4,
 "nbformat_minor": 2
}
